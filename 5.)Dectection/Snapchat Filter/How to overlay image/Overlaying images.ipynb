{
 "cells": [
  {
   "cell_type": "code",
   "execution_count": 1,
   "metadata": {},
   "outputs": [],
   "source": [
    "import numpy as np\n",
    "import cv2"
   ]
  },
  {
   "cell_type": "code",
   "execution_count": 2,
   "metadata": {},
   "outputs": [],
   "source": [
    "img=cv2.imread(\"Jamie.jpg\")"
   ]
  },
  {
   "cell_type": "code",
   "execution_count": 3,
   "metadata": {},
   "outputs": [
    {
     "data": {
      "text/plain": [
       "(1024, 733, 3)"
      ]
     },
     "execution_count": 3,
     "metadata": {},
     "output_type": "execute_result"
    }
   ],
   "source": [
    "img.shape"
   ]
  },
  {
   "cell_type": "code",
   "execution_count": 4,
   "metadata": {},
   "outputs": [],
   "source": [
    "for alpha in np.arange(0,1.1,0.1)[::-1]:\n",
    "    overlay=img.copy()\n",
    "    outputimg=img.copy()\n",
    "    \n",
    "    cv2.rectangle(overlay,(0,400),(400,400),(0,0,225),-1)\n",
    "    \n",
    "    #this for adding text\n",
    "    cv2.putText(overlay,\"PyImageSearch: alpha={}\".format(alpha),(10,30),cv2.FONT_HERSHEY_SIMPLEX,1.0,(0,0,255),3)"
   ]
  },
  {
   "cell_type": "code",
   "execution_count": null,
   "metadata": {},
   "outputs": [],
   "source": []
  },
  {
   "cell_type": "code",
   "execution_count": 7,
   "metadata": {},
   "outputs": [],
   "source": [
    "outputimg=cv2.addWeighted(overlay,alpha,outputimg,1-alpha,0,outputimg)"
   ]
  },
  {
   "cell_type": "code",
   "execution_count": 9,
   "metadata": {},
   "outputs": [
    {
     "name": "stdout",
     "output_type": "stream",
     "text": [
      "aplha=0.5,beta=0.5\n"
     ]
    }
   ],
   "source": [
    "alpha=0.5\n",
    "print(\"aplha={},beta={}\".format(alpha,1-alpha))\n",
    "cv2.imshow(\"Overlay\",outputimg)\n",
    "cv2.waitKey(0)\n",
    "\n",
    "cv2.destroyAllWindows()"
   ]
  },
  {
   "cell_type": "code",
   "execution_count": 15,
   "metadata": {},
   "outputs": [],
   "source": [
    "overlay=cv2.imread(\"glasses.png\",cv2.IMREAD_UNCHANGED)"
   ]
  },
  {
   "cell_type": "code",
   "execution_count": 16,
   "metadata": {},
   "outputs": [
    {
     "ename": "error",
     "evalue": "OpenCV(3.4.8) C:\\projects\\opencv-python\\opencv\\modules\\core\\src\\arithm.cpp:663: error: (-209:Sizes of input arguments do not match) The operation is neither 'array op array' (where arrays have the same size and the same number of channels), nor 'array op scalar', nor 'scalar op array' in function 'cv::arithm_op'\n",
     "output_type": "error",
     "traceback": [
      "\u001b[1;31m---------------------------------------------------------------------------\u001b[0m",
      "\u001b[1;31merror\u001b[0m                                     Traceback (most recent call last)",
      "\u001b[1;32m<ipython-input-16-13a329e50cd0>\u001b[0m in \u001b[0;36m<module>\u001b[1;34m\u001b[0m\n\u001b[1;32m----> 1\u001b[1;33m \u001b[0mfinalimg\u001b[0m\u001b[1;33m=\u001b[0m\u001b[0mcv2\u001b[0m\u001b[1;33m.\u001b[0m\u001b[0maddWeighted\u001b[0m\u001b[1;33m(\u001b[0m\u001b[0mimg\u001b[0m\u001b[1;33m,\u001b[0m\u001b[1;36m0.5\u001b[0m\u001b[1;33m,\u001b[0m\u001b[0moverlay\u001b[0m\u001b[1;33m,\u001b[0m\u001b[1;36m0.1\u001b[0m\u001b[1;33m,\u001b[0m\u001b[1;36m0\u001b[0m\u001b[1;33m)\u001b[0m\u001b[1;33m\u001b[0m\u001b[1;33m\u001b[0m\u001b[0m\n\u001b[0m",
      "\u001b[1;31merror\u001b[0m: OpenCV(3.4.8) C:\\projects\\opencv-python\\opencv\\modules\\core\\src\\arithm.cpp:663: error: (-209:Sizes of input arguments do not match) The operation is neither 'array op array' (where arrays have the same size and the same number of channels), nor 'array op scalar', nor 'scalar op array' in function 'cv::arithm_op'\n"
     ]
    }
   ],
   "source": [
    "finalimg=cv2.addWeighted(img,0.5,overlay,0.1,0)"
   ]
  },
  {
   "cell_type": "code",
   "execution_count": null,
   "metadata": {},
   "outputs": [
    {
     "name": "stdout",
     "output_type": "stream",
     "text": [
      "(221, 483, 4)\n",
      "(1024, 733, 3)\n",
      "633 924 100 100\n"
     ]
    }
   ],
   "source": [
    "print(overlay.shape) # must be (x,y,4)\n",
    "print(img.shape) # must be (x,y,3)\n",
    "\n",
    "# downscale logo by half and position on bottom right reference\n",
    "out = logoOverlay(img,overlay,scale=0.5,y=-100,x=-100) \n",
    "cv2.imshow(\"test\",out)\n",
    "cv2.waitKey(0)"
   ]
  },
  {
   "cell_type": "code",
   "execution_count": 22,
   "metadata": {},
   "outputs": [],
   "source": [
    "def logoOverlay(image,logo,alpha=0.5,x=0, y=0, scale=1.0):\n",
    "    (h, w) = image.shape[:2]\n",
    "    image = np.dstack([image, np.ones((h, w), dtype=\"uint8\") * 255])\n",
    "\n",
    "    overlay = cv2.resize(logo, None,fx=scale,fy=scale)\n",
    "    (wH, wW) = overlay.shape[:2]\n",
    "    output = image.copy()\n",
    "    # blend the two images together using transparent overlays\n",
    "    try:\n",
    "        if x<0 : x = w+x\n",
    "        if y<0 : y = h+y\n",
    "        if x+wW > w: wW = w-x  \n",
    "        if y+wH > h: wH = h-y\n",
    "        print(x,y,wW,wH)\n",
    "        overlay=cv2.addWeighted(output[y:y+wH, x:x+wW],alpha,overlay[:wH,:wW],1.0,0)\n",
    "        output[y:y+wH, x:x+wW ] = overlay\n",
    "    except Exception as e:\n",
    "        print(\"Error: Logo position is overshooting image!\")\n",
    "        print(e)\n",
    "\n",
    "    output= output[:,:,:3]\n",
    "    return output"
   ]
  },
  {
   "cell_type": "code",
   "execution_count": null,
   "metadata": {},
   "outputs": [],
   "source": []
  }
 ],
 "metadata": {
  "kernelspec": {
   "display_name": "Python 3",
   "language": "python",
   "name": "python3"
  },
  "language_info": {
   "codemirror_mode": {
    "name": "ipython",
    "version": 3
   },
   "file_extension": ".py",
   "mimetype": "text/x-python",
   "name": "python",
   "nbconvert_exporter": "python",
   "pygments_lexer": "ipython3",
   "version": "3.7.6"
  }
 },
 "nbformat": 4,
 "nbformat_minor": 4
}
