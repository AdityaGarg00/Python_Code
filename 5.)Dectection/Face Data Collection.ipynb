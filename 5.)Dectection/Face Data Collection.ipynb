{
 "cells": [
  {
   "cell_type": "code",
   "execution_count": 3,
   "metadata": {},
   "outputs": [],
   "source": [
    "import cv2\n",
    "import numpy as np"
   ]
  },
  {
   "cell_type": "code",
   "execution_count": 4,
   "metadata": {},
   "outputs": [],
   "source": [
    "cam =cv2.VideoCapture(0) #intailising cam\n",
    "\n",
    "face_cascade=cv2.CascadeClassifier(\"haarcascade_frontalface_alt.xml\")\n",
    "\n",
    "face_data=[] #empty list for storing data (faces)\n",
    "\n",
    "dataset_path=\"./data\" #all the faces will be stored here\n",
    "\n",
    "# import os\n",
    "# os.mkdir(\"data\") #for creating folder \n",
    "\n",
    "cv2.__version__\n",
    "\n",
    "\n",
    "while True:\n",
    "        ret, frame = cam.read()\n",
    "        if ret == False:\n",
    "            continue\n",
    "        gray_frame = cv2.cvtColor(frame, cv2.COLOR_BGR2GRAY) # bgr -> grayscale conversion\n",
    "        faces = face_cascade.detectMultiScale(gray_frame, 1.3, 5)\n",
    "        for face in faces:\n",
    "            x, y, w, h = face\n",
    "\n",
    "            cv2.rectangle(frame, (x,y), (x+w, y+h), (255, 0, 0), 2)\n",
    "        cv2.imshow(\"window\", frame)\n",
    "        key = cv2.waitKey(1) #1ms wait by waitkey function\n",
    "        if key == ord(\"q\"):\n",
    "            break\n",
    "\n",
    "cam.release()#Closes video file or capturing device.\n",
    "cv2.destroyAllWindows()\n",
    "\n"
   ]
  },
  {
   "cell_type": "code",
   "execution_count": null,
   "metadata": {},
   "outputs": [],
   "source": [
    ".\n"
   ]
  }
 ],
 "metadata": {
  "kernelspec": {
   "display_name": "Python 3",
   "language": "python",
   "name": "python3"
  },
  "language_info": {
   "codemirror_mode": {
    "name": "ipython",
    "version": 3
   },
   "file_extension": ".py",
   "mimetype": "text/x-python",
   "name": "python",
   "nbconvert_exporter": "python",
   "pygments_lexer": "ipython3",
   "version": "3.7.6"
  }
 },
 "nbformat": 4,
 "nbformat_minor": 4
}
