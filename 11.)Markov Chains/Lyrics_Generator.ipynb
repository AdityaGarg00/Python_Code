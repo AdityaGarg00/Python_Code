{
 "cells": [
  {
   "cell_type": "code",
   "execution_count": 1,
   "metadata": {},
   "outputs": [],
   "source": [
    "import pandas as pd\n",
    "import numpy as np"
   ]
  },
  {
   "cell_type": "code",
   "execution_count": 12,
   "metadata": {},
   "outputs": [],
   "source": [
    "import requests"
   ]
  },
  {
   "cell_type": "code",
   "execution_count": 13,
   "metadata": {},
   "outputs": [],
   "source": [
    "data=requests.get(\"https://raw.githubusercontent.com/aryangulati/Python_Code/master/11.)Markov%20Chains/Apna%20Time%20Aayega.txt\")"
   ]
  },
  {
   "cell_type": "code",
   "execution_count": 14,
   "metadata": {},
   "outputs": [],
   "source": [
    "text=data.text"
   ]
  },
  {
   "cell_type": "code",
   "execution_count": 17,
   "metadata": {},
   "outputs": [],
   "source": [
    "def getTransitionTable(data, k = 4 ):\n",
    "    T = {}\n",
    "    \n",
    "    for i in range(len(data) - k):\n",
    "        X = data[i:i+k]\n",
    "        Y = data[i+k]\n",
    "    #making dictornary for each after word \n",
    "    # and new that are not in dict of x(transition dict)\n",
    "        if T.get(X) is None:\n",
    "            T[X] = {}\n",
    "            T[X][Y] = 1\n",
    "        else:\n",
    "            if T[X].get(Y) is None: #checking is y is not present or not!!\n",
    "                T[X][Y] = 1\n",
    "            else:\n",
    "                T[X][Y] +=1\n",
    "    \n",
    "    return T"
   ]
  },
  {
   "cell_type": "code",
   "execution_count": 18,
   "metadata": {},
   "outputs": [],
   "source": [
    "def convertFreqIntoProb(T):\n",
    "    for kx in T.keys():\n",
    "        s = float(sum(T[kx].values()))\n",
    "        for k in T[kx].keys():\n",
    "            T[kx][k] = T[kx][k]/s\n",
    "            \n",
    "    return T"
   ]
  },
  {
   "cell_type": "code",
   "execution_count": 22,
   "metadata": {},
   "outputs": [],
   "source": [
    "T = getTransitionTable(text)"
   ]
  },
  {
   "cell_type": "code",
   "execution_count": 23,
   "metadata": {},
   "outputs": [],
   "source": [
    "T = convertFreqIntoProb(T)"
   ]
  },
  {
   "cell_type": "code",
   "execution_count": null,
   "metadata": {},
   "outputs": [],
   "source": []
  },
  {
   "cell_type": "code",
   "execution_count": 24,
   "metadata": {},
   "outputs": [],
   "source": [
    "np.random.seed(11)"
   ]
  },
  {
   "cell_type": "code",
   "execution_count": 25,
   "metadata": {},
   "outputs": [],
   "source": [
    "def sample_next(context, T, k = 4):\n",
    "    context = context[-k:] #reading last four char\n",
    "    \n",
    "    \n",
    "    if T.get(context) is None:\n",
    "        return ' '\n",
    "    \n",
    "    possible_chars = list(T[context].keys())\n",
    "    possible_probabs = list(T[context].values())\n",
    "    \n",
    "    return np.random.choice(possible_chars, p =possible_probabs )"
   ]
  },
  {
   "cell_type": "code",
   "execution_count": 26,
   "metadata": {},
   "outputs": [],
   "source": [
    "def generateText(starting_sent,T, k = 4, max_len = 100):\n",
    "    sentence = starting_sent\n",
    "    \n",
    "    context = sentence[-k:]\n",
    "    \n",
    "    for i in range(max_len):\n",
    "        next_pred = sample_next(context, T, k)\n",
    "        sentence += next_pred\n",
    "        context = sentence[-k:]\n",
    "        \n",
    "    return sentence"
   ]
  },
  {
   "cell_type": "code",
   "execution_count": 34,
   "metadata": {},
   "outputs": [],
   "source": [
    "prediction = generateText(\"apna\", T, max_len=2000)\n"
   ]
  },
  {
   "cell_type": "code",
   "execution_count": 35,
   "metadata": {},
   "outputs": [
    {
     "name": "stdout",
     "output_type": "stream",
     "text": [
      "apna time Aayega\n",
      "Kya ghanta lekar jaayega\n",
      "Jitni rehmat mein hai\n",
      "Jo darr ko cheerenge\n",
      "Hum kaamyabi chheene de\n",
      "Ab kaise tu ghanta lekar jaayega\n",
      " \n",
      "Tu nanga hi to aayega\n",
      "Apna Time aayega\n",
      "Apna time aayega\n",
      "Apna Time Aayega\n",
      "Kya ghanta lekar jaayega\n",
      "Kya ghanta lekar jaayega x (2)\n",
      " \n",
      "Tu nanga hi to khauf nahi tha sar par aayega\n",
      " \n",
      "Yeh shaan pighlayega\n",
      "Jitni raakh se\n",
      "Tu udd ja apna toone boya hath nahi to aaya hai\n",
      "Jo darr ko bhi ladka sehmat mein hai, aafat ki ab talaash mein hai, amaana ab aadat ki\n",
      "Mohobbat ki\n",
      "Himaakat nahi hai\n",
      "Kya ghanta lekar..\n",
      " \n",
      "Kissi ka jwala\n",
      "Meri bediyan par aayega\n",
      " \n",
      "Tu nanga hi to aaya hai\n",
      "Kyon ka jwala\n",
      "Mere jaisa shaan marzi ki\n",
      "Aasman bhi ladka sehmat mein nahin hai\n",
      "Tere jaisa koyi hai\n",
      "Kya ghanta lekar jaayega\n",
      " \n",
      "Ab khauf nahi hai, amaana ab talaash mein nahi\n",
      "Utni raaste ko bhi ladka sehmat mein\n",
      " \n",
      "Kissi ka jwala\n",
      "Tujhe na mil payega\n",
      "Apna toone boya hath nahi hai chahat ki mehnat se jeenenge\n",
      "Hum kaamyabi chheene mein\n",
      " \n",
      "Kissi ka jwala\n",
      "Tujhe na mila paseene se\n",
      "Tu nanga hi to aayega\n",
      "Aisa shabdon ki ab jeene mein\n",
      "Har raaste ko bhi sar par\n",
      "Yahaan marzi ki\n",
      "Mohobbat ki hai\n",
      " \n",
      "Taakat ki hai, amaanat se jeene mein hai\n",
      "Phir bhi ladka sehmat nahi hai\n",
      "Kyon?\n",
      " \n",
      "Tu nanga hi barkat ki hai, amaanat kismat mein nahi to aayega apni raaste ko cheerenge\n",
      "Sab kuchh mil payega\n",
      "Apna toone boya hai\n",
      " \n",
      "Tu udd ja apni raakh se\n",
      "Matlab bana lala\n",
      "Tujhe na mila paseene mein nahi hai chheene mein\n",
      "Parwane ki ab jeene se\n",
      "Tu nanga hi barkat ne hi to aaya khwaab\n",
      "Ab kaise tu dafnayega\n",
      "Apna time aayega\n",
      "Kya tu ghanta lekar jaayega\n",
      " \n",
      "Ab khauf nahi hai\n",
      "Kyon?\n",
      " \n",
      "Tu nanga hi to aayega\n",
      "Apna time aayega\n",
      " \n",
      "Yeh shabdon ka hath nahi hai\n",
      "Tere bhai jaisa shabdon ki mehnat se main\n",
      "Jitni rehmat mein nahin hai\n",
      " \n",
      "Tu udd ja ab laalach nai hai\n",
      "Kya ghanta lekar jaayega\n",
      "Uth ja ab talaash mein\n",
      "Har raakh se\n",
      "Tu nanga hi to khauf nahi\n",
      "Utni rehmat mein\n",
      "Har raakh se\n",
      "Tu nanga hi barkat ne hi to khaayega\n",
      "Apna time aayega\n",
      "Apna time Aayega\n",
      "Aisa shabdon ki mehnat ki\n",
      "Himaakat di hai\n",
      "Phir bhi satayega\n",
      "Aisa koyi hai\n",
      "Phir bhi ladka seh\n"
     ]
    }
   ],
   "source": [
    "print(prediction)"
   ]
  },
  {
   "cell_type": "code",
   "execution_count": 36,
   "metadata": {},
   "outputs": [],
   "source": [
    "with open(\"lyric_genrated.txt\",'wt') as f:\n",
    "    f.write(prediction)"
   ]
  },
  {
   "cell_type": "code",
   "execution_count": null,
   "metadata": {},
   "outputs": [],
   "source": []
  }
 ],
 "metadata": {
  "kernelspec": {
   "display_name": "Python 3",
   "language": "python",
   "name": "python3"
  },
  "language_info": {
   "codemirror_mode": {
    "name": "ipython",
    "version": 3
   },
   "file_extension": ".py",
   "mimetype": "text/x-python",
   "name": "python",
   "nbconvert_exporter": "python",
   "pygments_lexer": "ipython3",
   "version": "3.7.6"
  }
 },
 "nbformat": 4,
 "nbformat_minor": 4
}
