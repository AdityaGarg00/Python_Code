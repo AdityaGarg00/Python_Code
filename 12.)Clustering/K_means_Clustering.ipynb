{
 "cells": [
  {
   "cell_type": "markdown",
   "metadata": {
    "colab_type": "text",
    "id": "VjzABwVmAHUl"
   },
   "source": [
    "#**Problem:** \n",
    "###We are opening a Cake Shops and we have list of locations of BUYERS who frequently order Cake we want to find out optimal locations of Cake Shops where they should be opened?"
   ]
  },
  {
   "cell_type": "markdown",
   "metadata": {
    "colab_type": "text",
    "id": "AUcF06Zs9xmI"
   },
   "source": [
    "#**K-means**\n",
    "- Common clustering technique, helps to solve many problems efficiently.\n",
    "- one of the simplest and popular unsupervised machine learning algorithms.\n",
    "- unsupervised algorithms means that our datasets using only input vectors(X) without referring to labelled, outcomes(Y).\n",
    "-a common technique for statistical data analysis\n",
    "##**The objective of K-means is simple:**\n",
    "###Group similar data points together and discover underlying patterns. To achieve this objective, K-means looks for a fixed number (k) of clusters in a dataset.\n",
    "In other words, the K-means algorithm identifies k number of centroids, and then allocates every data point to the nearest cluster,The ‘means’ in the K-means refers to averaging of the data; that is, finding the centroid.\n"
   ]
  },
  {
   "cell_type": "markdown",
   "metadata": {
    "colab_type": "text",
    "id": "chlG18q07thW"
   },
   "source": [
    "![cake_meme](https://user-images.githubusercontent.com/42711978/87532315-908e2580-c6b0-11ea-8eff-01000290d667.jpg)\n"
   ]
  },
  {
   "cell_type": "markdown",
   "metadata": {
    "colab_type": "text",
    "id": "Lzvq5hJOB8m7"
   },
   "source": [
    "#Step-1 : Initialise Cake Shops randomly."
   ]
  },
  {
   "cell_type": "markdown",
   "metadata": {
    "colab_type": "text",
    "id": "azGn3-P88Cfi"
   },
   "source": [
    "![img2133](https://user-images.githubusercontent.com/42711978/87532558-f7abda00-c6b0-11ea-9f0c-f5730efa1eca.png)\n"
   ]
  },
  {
   "cell_type": "markdown",
   "metadata": {
    "colab_type": "text",
    "id": "V9NJ3WSeCLL6"
   },
   "source": [
    "#Step-2 : Assign each Buyer to its nearest Cake Shop."
   ]
  },
  {
   "cell_type": "markdown",
   "metadata": {
    "colab_type": "text",
    "id": "5X1AX18S8CLR"
   },
   "source": [
    "![img2](https://user-images.githubusercontent.com/42711978/87532632-1316e500-c6b1-11ea-9b78-64e16a818b60.png)\n"
   ]
  },
  {
   "cell_type": "markdown",
   "metadata": {
    "colab_type": "text",
    "id": "f5JEaRBsCu0-"
   },
   "source": [
    "#Step-3 : Update the Shop Location by taking mean of Buyers assigned to it."
   ]
  },
  {
   "cell_type": "markdown",
   "metadata": {
    "colab_type": "text",
    "id": "IwnC_mGf8o27"
   },
   "source": [
    "![img21](https://user-images.githubusercontent.com/42711978/87532691-29bd3c00-c6b1-11ea-8b03-ba6aef024807.png)\n"
   ]
  },
  {
   "cell_type": "markdown",
   "metadata": {
    "colab_type": "text",
    "id": "dhvYK88pD3bJ"
   },
   "source": [
    "#Step-4 : Repeat Steps 2 and 3 Until Convergence."
   ]
  },
  {
   "cell_type": "markdown",
   "metadata": {
    "colab_type": "text",
    "id": "txXzZV7d8oqK"
   },
   "source": [
    "![img213](https://user-images.githubusercontent.com/42711978/87532792-48233780-c6b1-11ea-9cf9-be5acc7f2de2.png)\n"
   ]
  },
  {
   "cell_type": "markdown",
   "metadata": {
    "colab_type": "text",
    "id": "S-63X7mZ8ob0"
   },
   "source": [
    "##**How the K-means algorithm works?**\n",
    "\n"
   ]
  },
  {
   "cell_type": "markdown",
   "metadata": {
    "colab_type": "text",
    "id": "Dc20NPJkD9oR"
   },
   "source": [
    "To process the learning data, the K-means algorithm in data mining starts with a first group of randomly selected centroids, which are used as the beginning points for every cluster, and then performs iterative (repetitive) calculations to optimize the positions of the centroids"
   ]
  },
  {
   "cell_type": "markdown",
   "metadata": {
    "colab_type": "text",
    "id": "j4y6nhn-Hc79"
   },
   "source": [
    "**1. Cluster assignment**<br>\n",
    "the algorithm goes through each of the data points and depending on which cluster is closer, It assigns the data points to one of the cluster centroids.<br>\n",
    "**2. Updation centroid**<br>\n",
    "K-means moves the centroids to the average of the points in a cluster. In other words, the algorithm calculates the average of all the points in a cluster and moves the centroid to that average location.\n",
    "This process is repeated until there is no change in the clusters. K is chosen randomly or by giving specific initial starting points by the us.\n"
   ]
  },
  {
   "cell_type": "markdown",
   "metadata": {
    "colab_type": "text",
    "id": "QorlWoU8ZF7B"
   },
   "source": [
    "![img](https://user-images.githubusercontent.com/42711978/87543560-97be2f00-c6c2-11ea-8ab3-f7fd89605cfb.png)\n"
   ]
  },
  {
   "cell_type": "code",
   "execution_count": 12,
   "metadata": {
    "colab": {},
    "colab_type": "code",
    "id": "PTRtuWRvEOcs"
   },
   "outputs": [],
   "source": [
    "import numpy as np\n",
    "import matplotlib.pyplot as plt"
   ]
  },
  {
   "cell_type": "code",
   "execution_count": null,
   "metadata": {
    "colab": {},
    "colab_type": "code",
    "id": "7HcrF5vmbpxJ"
   },
   "outputs": [],
   "source": [
    "#Here we’ll generate our own data using the make_blobs function from the sklearn.datasets module\n",
    "#The centers parameter specifies the number of clusters.\n",
    "from sklearn.datasets import make_blobs"
   ]
  },
  {
   "cell_type": "code",
   "execution_count": null,
   "metadata": {
    "colab": {},
    "colab_type": "code",
    "id": "y76ezkw5b2sX"
   },
   "outputs": [],
   "source": [
    "#It will generate isotropic Gaussian Blobs for clustering.\n",
    "#basically it will create Clusters \n",
    "#we will not use y as unsupervised learning "
   ]
  },
  {
   "cell_type": "code",
   "execution_count": null,
   "metadata": {
    "colab": {},
    "colab_type": "code",
    "id": "cUUkpt-AdIwZ"
   },
   "outputs": [],
   "source": [
    "#intialise our k =5\n",
    "k=5 #cluster center"
   ]
  },
  {
   "cell_type": "code",
   "execution_count": null,
   "metadata": {
    "colab": {},
    "colab_type": "code",
    "id": "ZVMjp7K2cYYi"
   },
   "outputs": [],
   "source": [
    "#X,y =make_blobs(n_samples=500,n_features=2,centers=5,random_state=10) #press shift+tab to read about all parameters\n",
    "#or\n",
    "X,_=make_blobs(n_samples=500,n_features=2,centers=k,random_state=10)"
   ]
  },
  {
   "cell_type": "code",
   "execution_count": null,
   "metadata": {
    "colab": {
     "base_uri": "https://localhost:8080/",
     "height": 185
    },
    "colab_type": "code",
    "id": "WTeLXJG9cj_x",
    "outputId": "34f4ab15-ee46-4980-b298-dd1e202a1513"
   },
   "outputs": [
    {
     "data": {
      "text/plain": [
       "array([[ -7.32786741,   4.23641465],\n",
       "       [  1.12565931,   6.32088416],\n",
       "       [ -0.49239887,  -5.28550826],\n",
       "       [ -7.12432134,   6.16236021],\n",
       "       [  2.38696269,   4.11331935],\n",
       "       [  6.55519802, -10.28277104],\n",
       "       [ -4.60484127,   4.27470475],\n",
       "       [ -1.27010839,  -6.55718306],\n",
       "       [  5.77989048,  -9.7922405 ],\n",
       "       [ -7.72699176,  -9.47166311]])"
      ]
     },
     "execution_count": 19,
     "metadata": {
      "tags": []
     },
     "output_type": "execute_result"
    }
   ],
   "source": [
    "X[:10]\n"
   ]
  },
  {
   "cell_type": "code",
   "execution_count": null,
   "metadata": {
    "colab": {
     "base_uri": "https://localhost:8080/",
     "height": 50
    },
    "colab_type": "code",
    "id": "YQATcbh5crU6",
    "outputId": "01d3b0cb-af9d-49e5-eee9-99850028664a"
   },
   "outputs": [
    {
     "data": {
      "text/plain": [
       "array([-7.32786741,  1.12565931, -0.49239887, -7.12432134,  2.38696269,\n",
       "        6.55519802, -4.60484127, -1.27010839,  5.77989048, -7.72699176])"
      ]
     },
     "execution_count": 20,
     "metadata": {
      "tags": []
     },
     "output_type": "execute_result"
    }
   ],
   "source": [
    "X[:10,0]"
   ]
  },
  {
   "cell_type": "code",
   "execution_count": null,
   "metadata": {
    "colab": {
     "base_uri": "https://localhost:8080/",
     "height": 34
    },
    "colab_type": "code",
    "id": "u8r1hZukcmnu",
    "outputId": "22ae0066-9a6f-4297-844c-d6170a4a4158"
   },
   "outputs": [
    {
     "data": {
      "text/plain": [
       "(500, 2)"
      ]
     },
     "execution_count": 21,
     "metadata": {
      "tags": []
     },
     "output_type": "execute_result"
    }
   ],
   "source": [
    "X.shape"
   ]
  },
  {
   "cell_type": "code",
   "execution_count": null,
   "metadata": {
    "colab": {
     "base_uri": "https://localhost:8080/",
     "height": 282
    },
    "colab_type": "code",
    "id": "Gs6CKizbcoh7",
    "outputId": "bcb4365e-a25f-4b01-cdbe-2d63abc37791"
   },
   "outputs": [
    {
     "data": {
      "text/plain": [
       "<matplotlib.collections.PathCollection at 0x7f32f97a6f60>"
      ]
     },
     "execution_count": 22,
     "metadata": {
      "tags": []
     },
     "output_type": "execute_result"
    },
    {
     "data": {
      "image/png": "[encoded data removed]",
      "text/plain": [
       "<Figure size 432x288 with 1 Axes>"
      ]
     },
     "metadata": {
      "needs_background": "light",
      "tags": []
     },
     "output_type": "display_data"
    }
   ],
   "source": [
    "#X[:,feature1] ,X[:,feature2]\n",
    "plt.scatter(X[:,0],X[:,1])\n",
    "#five Cluster \n",
    "#we have to find labels for them for eg color mapping "
   ]
  },
  {
   "cell_type": "code",
   "execution_count": null,
   "metadata": {
    "colab": {},
    "colab_type": "code",
    "id": "QzALmrQ-cxwg"
   },
   "outputs": [],
   "source": [
    "#intialisng colors\n",
    "color=[\"red\",\"maroon\",\"blue\",\"yellow\",\"orange\"]"
   ]
  },
  {
   "cell_type": "code",
   "execution_count": null,
   "metadata": {
    "colab": {},
    "colab_type": "code",
    "id": "3cDVjbJBdcs0"
   },
   "outputs": [],
   "source": [
    "#intialize clusters- centeroid by finding mean of data(centers) randomly\n",
    "for i in range(k):\n",
    "    center =np.random.randint(-8,10,size=(X.shape[1]))"
   ]
  },
  {
   "cell_type": "code",
   "execution_count": null,
   "metadata": {
    "colab": {
     "base_uri": "https://localhost:8080/",
     "height": 34
    },
    "colab_type": "code",
    "id": "agk8mEamdgkU",
    "outputId": "85e8671f-36fe-436e-da50-1be6b6d26270"
   },
   "outputs": [
    {
     "data": {
      "text/plain": [
       "array([3, 7])"
      ]
     },
     "execution_count": 27,
     "metadata": {
      "tags": []
     },
     "output_type": "execute_result"
    }
   ],
   "source": [
    "#np.random.randint(-8,10,size=(X.shape[1],))\n",
    "#or this can be written as\n",
    "np.random.randint(-8,10,size=(2,))\n",
    "#everytime different intialisation \n",
    "#so step 1 is very important to get perfect clusters"
   ]
  },
  {
   "cell_type": "code",
   "execution_count": null,
   "metadata": {
    "colab": {
     "base_uri": "https://localhost:8080/",
     "height": 34
    },
    "colab_type": "code",
    "id": "MW2ofZuRdjJe",
    "outputId": "32a499a1-4b77-45f5-9bd2-42cfcbca1548"
   },
   "outputs": [
    {
     "data": {
      "text/plain": [
       "(2,)"
      ]
     },
     "execution_count": 28,
     "metadata": {
      "tags": []
     },
     "output_type": "execute_result"
    }
   ],
   "source": [
    "(X.shape[1],)"
   ]
  },
  {
   "cell_type": "code",
   "execution_count": null,
   "metadata": {
    "colab": {},
    "colab_type": "code",
    "id": "JHle15ftdw3i"
   },
   "outputs": [],
   "source": [
    "#making an empty dictionary of clusters we will use to store \n",
    "#points associated with cluster \n",
    "#their center\n",
    "#their color\n",
    "clusters={}"
   ]
  },
  {
   "cell_type": "markdown",
   "metadata": {
    "colab_type": "text",
    "id": "OTajTFKVeeUM"
   },
   "source": [
    "#step 1-*Initialize* all the **Cluster Center** randomly"
   ]
  },
  {
   "cell_type": "code",
   "execution_count": null,
   "metadata": {
    "colab": {},
    "colab_type": "code",
    "id": "q-WGs4zqd_J7"
   },
   "outputs": [],
   "source": [
    "# Initialize clusters\n",
    "\n",
    "for i in range(k):\n",
    "    center = np.random.randint(-8, 10, size= (X.shape[1],), )\n",
    "    points = []\n",
    "    \n",
    "    cluster = {\n",
    "        'center' : center,\n",
    "        'points' : points,\n",
    "        'color' : color[i]\n",
    "    }\n",
    "    \n",
    "    clusters[i] = cluster"
   ]
  },
  {
   "cell_type": "code",
   "execution_count": null,
   "metadata": {
    "colab": {
     "base_uri": "https://localhost:8080/",
     "height": 101
    },
    "colab_type": "code",
    "id": "clnkFI9iekTD",
    "outputId": "a28758d8-b8f7-4bd1-983a-880894a52b2e"
   },
   "outputs": [
    {
     "data": {
      "text/plain": [
       "{0: {'center': array([ 5, -2]), 'color': 'red', 'points': []},\n",
       " 1: {'center': array([-7,  4]), 'color': 'maroon', 'points': []},\n",
       " 2: {'center': array([-1, -6]), 'color': 'blue', 'points': []},\n",
       " 3: {'center': array([-6, -7]), 'color': 'yellow', 'points': []},\n",
       " 4: {'center': array([2, 8]), 'color': 'orange', 'points': []}}"
      ]
     },
     "execution_count": 70,
     "metadata": {
      "tags": []
     },
     "output_type": "execute_result"
    }
   ],
   "source": [
    "#its a dictonary of all the clusters containing centers and color \n",
    "#now points is for the list of all points nearest to cluster centers \n",
    "clusters\n"
   ]
  },
  {
   "cell_type": "markdown",
   "metadata": {
    "colab_type": "text",
    "id": "XqcnsQi3e98v"
   },
   "source": [
    "###For Ploting "
   ]
  },
  {
   "cell_type": "code",
   "execution_count": null,
   "metadata": {
    "colab": {
     "base_uri": "https://localhost:8080/",
     "height": 265
    },
    "colab_type": "code",
    "id": "_ZpYAB0He1yI",
    "outputId": "502907e0-5caf-4887-fcad-65bdb2d32bbb"
   },
   "outputs": [
    {
     "data": {
      "image/png": "[encoded data removed]",
      "text/plain": [
       "<Figure size 432x288 with 1 Axes>"
      ]
     },
     "metadata": {
      "needs_background": "light",
      "tags": []
     },
     "output_type": "display_data"
    }
   ],
   "source": [
    "plt.scatter(X[:, 0], X[:, 1])\n",
    "\n",
    "for i in range(k):#for all the clusters\n",
    "    center = clusters[i]['center'] #its cluster's center\n",
    "    plt.scatter(center[0], center[1], c=clusters[i]['color'], s=300, marker=\"o\")\n",
    "    #here we also taking color from the repective cluster's color\n",
    "    \n",
    "    \n",
    "plt.show()"
   ]
  },
  {
   "cell_type": "markdown",
   "metadata": {
    "colab_type": "text",
    "id": "0u-SQyjLgWIB"
   },
   "source": [
    "# Step2- Assign All points to nearest Cluster "
   ]
  },
  {
   "cell_type": "code",
   "execution_count": null,
   "metadata": {
    "colab": {},
    "colab_type": "code",
    "id": "4ZxvG5wWgXBZ"
   },
   "outputs": [],
   "source": [
    "#it will iterate over all the points\n",
    "#find the distance from all 5  =k and include which is nearest or less distance "
   ]
  },
  {
   "cell_type": "code",
   "execution_count": null,
   "metadata": {
    "colab": {},
    "colab_type": "code",
    "id": "voFCxHqNgi9h"
   },
   "outputs": [],
   "source": [
    "#Euclidean Distance b/w cluster points and cluster center\n",
    "def distance(v1, v2):\n",
    "    return np.sum((v2-v1)**2)**0.5"
   ]
  },
  {
   "cell_type": "code",
   "execution_count": null,
   "metadata": {
    "colab": {},
    "colab_type": "code",
    "id": "P5vjHWGXgk1n"
   },
   "outputs": [],
   "source": [
    "def assignPointsToCluster(clusters, X):\n",
    "    \n",
    "    for ix in range(X.shape[0]):#iterate for all the examples\n",
    "        distance_of_i = [] #we can make alist of five distance from cluster center\n",
    "        \n",
    "        for kx in range(k):\n",
    "            d = distance(X[ix], clusters[kx]['center']) #we have find distance b/w \n",
    "            #all the point with all the five (k) cluster crnters\n",
    "            distance_of_i.append(d)\n",
    "            \n",
    "        cluster_to_choose = np.argmin(distance_of_i)\n",
    "        #here we want find the minimum distance of cluster centers\n",
    "        clusters[cluster_to_choose]['points'].append(X[ix])\n",
    "        #here we are appending the cluster points in points list that have minimum distance with center "
   ]
  },
  {
   "cell_type": "code",
   "execution_count": 110,
   "metadata": {
    "colab": {
     "base_uri": "https://localhost:8080/",
     "height": 621
    },
    "colab_type": "code",
    "id": "HfVebDliabjM",
    "outputId": "11297879-0a08-4e88-df2c-a7c4e7fafa42"
   },
   "outputs": [
    {
     "data": {
      "text/html": [
       "<img src=\"https://user-images.githubusercontent.com/42711978/87918133-9e1e2380-ca93-11ea-9237-bbe5ef68c084.gif\"/>"
      ],
      "text/plain": [
       "<IPython.core.display.Image object>"
      ]
     },
     "execution_count": 110,
     "metadata": {
      "tags": []
     },
     "output_type": "execute_result"
    }
   ],
   "source": [
    "#just for displaying assignments of centers/centroids to points and updation\n",
    "import IPython\n",
    "IPython.display.Image(url='https://user-images.githubusercontent.com/42711978/87918133-9e1e2380-ca93-11ea-9237-bbe5ef68c084.gif')\n"
   ]
  },
  {
   "cell_type": "code",
   "execution_count": null,
   "metadata": {
    "colab": {
     "base_uri": "https://localhost:8080/",
     "height": 34
    },
    "colab_type": "code",
    "id": "k14Fa-57gsp7",
    "outputId": "66bae8b9-4227-4cf9-edd9-a88ed5aa83ff"
   },
   "outputs": [
    {
     "data": {
      "text/plain": [
       "array([ 5, -2])"
      ]
     },
     "execution_count": 75,
     "metadata": {
      "tags": []
     },
     "output_type": "execute_result"
    }
   ],
   "source": [
    "clusters[0][\"center\"] \n",
    "#where the \"red\" Cluster center is ??"
   ]
  },
  {
   "cell_type": "code",
   "execution_count": null,
   "metadata": {
    "colab": {},
    "colab_type": "code",
    "id": "rbBlDNIsgu4H"
   },
   "outputs": [],
   "source": [
    "assignPointsToCluster(clusters, X)"
   ]
  },
  {
   "cell_type": "code",
   "execution_count": null,
   "metadata": {
    "colab": {
     "base_uri": "https://localhost:8080/",
     "height": 790
    },
    "colab_type": "code",
    "id": "poVsY2E9gxYV",
    "outputId": "0df0bce1-baf8-4f20-eea8-134ad0e2bc58"
   },
   "outputs": [
    {
     "data": {
      "text/plain": [
       "{'center': array([ 5, -2]),\n",
       " 'color': 'red',\n",
       " 'points': [array([  6.55519802, -10.28277104]),\n",
       "  array([  6.68288513, -10.31693051]),\n",
       "  array([ 5.69192445, -9.47641249]),\n",
       "  array([4.53591637, 2.99244115]),\n",
       "  array([ 5.21062297, -8.59588856]),\n",
       "  array([  6.59358123, -10.15693783]),\n",
       "  array([ 6.64456172, -9.64148174]),\n",
       "  array([ 6.80964509, -9.2387279 ]),\n",
       "  array([ 5.55955036, -8.38221714]),\n",
       "  array([ 6.66261819, -7.11963593]),\n",
       "  array([ 6.5341211 , -9.34041704]),\n",
       "  array([3.32662701, 2.79946902]),\n",
       "  array([ 5.88730132, -8.922587  ]),\n",
       "  array([ 6.08664442, -9.9358329 ]),\n",
       "  array([  7.83073847, -10.32431775]),\n",
       "  array([ 5.75876281, -8.44998784]),\n",
       "  array([ 5.69248303, -7.19999368]),\n",
       "  array([ 6.76633918, -9.5556513 ]),\n",
       "  array([ 5.03543068, -8.32978728]),\n",
       "  array([ 5.655043 , -9.1398234]),\n",
       "  array([ 6.13837188, -8.66669186]),\n",
       "  array([ 7.08312949, -8.9170714 ]),\n",
       "  array([ 5.96029767, -8.84098661]),\n",
       "  array([ 5.74576929, -9.12405811]),\n",
       "  array([ 5.80416595, -7.97055304]),\n",
       "  array([ 5.99156553, -9.73238127]),\n",
       "  array([ 7.41179861, -8.13779541]),\n",
       "  array([ 7.41149746, -7.84014686]),\n",
       "  array([ 5.97484093, -8.98176196]),\n",
       "  array([ 5.74116664, -7.11730996]),\n",
       "  array([ 5.93712728, -9.17066337]),\n",
       "  array([ 5.52556208, -8.18696464]),\n",
       "  array([ 6.55010412, -7.9123388 ]),\n",
       "  array([ 6.77096229, -9.0914457 ]),\n",
       "  array([ 7.82111653, -8.66750208]),\n",
       "  array([  6.91094987, -10.6647659 ]),\n",
       "  array([ 6.2686376 , -9.38138022]),\n",
       "  array([ 6.73488595, -9.38994773]),\n",
       "  array([ 7.6514625 , -9.46777959]),\n",
       "  array([ 6.52654224, -9.02060849]),\n",
       "  array([3.65303883, 2.58050564]),\n",
       "  array([ 6.44892897, -9.41815075]),\n",
       "  array([ 6.433274  , -9.87938702]),\n",
       "  array([ 5.85943906, -8.38192364])]}"
      ]
     },
     "execution_count": 79,
     "metadata": {
      "tags": []
     },
     "output_type": "execute_result"
    }
   ],
   "source": [
    "clusters[0]\n",
    "#cluster center associated with the nearest point !! "
   ]
  },
  {
   "cell_type": "code",
   "execution_count": null,
   "metadata": {
    "colab": {},
    "colab_type": "code",
    "id": "K76-7bdDg0ot"
   },
   "outputs": [],
   "source": [
    "def plotclusters(clusters):\n",
    "    for kx in range(k):\n",
    "        cluster_ke_points = clusters[kx]['points']\n",
    "        cluster_ka_color = clusters[kx]['color']\n",
    "        cluster_ka_center = clusters[kx]['center']\n",
    "        \n",
    "        cluster_ke_points = np.array(cluster_ke_points)\n",
    "        print(cluster_ke_points.shape)\n",
    "        #plotting points associated /nearest to the cluster centers\n",
    "        if len(cluster_ke_points)>0:\n",
    "            plt.scatter(cluster_ke_points[:, 0], cluster_ke_points[:, 1], c=cluster_ka_color)\n",
    "        \n",
    "        plt.scatter(cluster_ka_center[0], cluster_ka_center[1], c='black', s=300, marker=\"*\")"
   ]
  },
  {
   "cell_type": "markdown",
   "metadata": {
    "colab_type": "text",
    "id": "10pCqyg0hPmv"
   },
   "source": [
    "# Step - 3 Update centers to mean of all points"
   ]
  },
  {
   "cell_type": "code",
   "execution_count": null,
   "metadata": {
    "colab": {},
    "colab_type": "code",
    "id": "CEuDJI8VhLAM"
   },
   "outputs": [],
   "source": [
    "def updateCluster(clusters):\n",
    "    \n",
    "    for kx in range(k):\n",
    "        cluster_ke_points = clusters[kx]['points']\n",
    "        \n",
    "        cluster_ke_points = np.array(cluster_ke_points)\n",
    "        \n",
    "        if len(cluster_ke_points)>0:\n",
    "            new_center = np.mean(cluster_ke_points, axis=0) #axis is along rows so will \n",
    "            #find mean of all the feature seprately it will give 2,0 when we have cluster pts 50,2\n",
    "            clusters[kx]['center'] = new_center\n",
    "            clusters[kx]['points'] = [] # clear the points in a cluster list (emptying pts)\n",
    "            #as we have to do step 2 after step 3 again till not converge "
   ]
  },
  {
   "cell_type": "code",
   "execution_count": null,
   "metadata": {
    "colab": {
     "base_uri": "https://localhost:8080/",
     "height": 349
    },
    "colab_type": "code",
    "id": "sVSDnIq9hRoF",
    "outputId": "a125f24f-a361-40d0-a857-9944045a46e3"
   },
   "outputs": [
    {
     "name": "stdout",
     "output_type": "stream",
     "text": [
      "(100, 2)\n",
      "(100, 2)\n",
      "(100, 2)\n",
      "(100, 2)\n",
      "(100, 2)\n"
     ]
    },
    {
     "data": {
      "image/png": "[encoded data removed]",
      "text/plain": [
       "<Figure size 432x288 with 1 Axes>"
      ]
     },
     "metadata": {
      "needs_background": "light",
      "tags": []
     },
     "output_type": "display_data"
    }
   ],
   "source": [
    "# Repeat this cell few times or put it inside a loop\n",
    "assignPointsToCluster(clusters, X)\n",
    "\n",
    "plotclusters(clusters)\n",
    "\n",
    "updateCluster(clusters)\n",
    "#prediction \n",
    "#you can run these block of code until the clusters center position are \n",
    "#same after and beforing running it!!"
   ]
  },
  {
   "cell_type": "markdown",
   "metadata": {
    "colab_type": "text",
    "id": "HCsaqtpLQO5S"
   },
   "source": [
    "# Comparing from actual Outputs"
   ]
  },
  {
   "cell_type": "code",
   "execution_count": null,
   "metadata": {
    "colab": {},
    "colab_type": "code",
    "id": "qQODX-oCQNx_"
   },
   "outputs": [],
   "source": [
    "X, y = make_blobs(n_samples=500, n_features=2, centers=5, random_state=3)\n"
   ]
  },
  {
   "cell_type": "code",
   "execution_count": null,
   "metadata": {
    "colab": {
     "base_uri": "https://localhost:8080/",
     "height": 265
    },
    "colab_type": "code",
    "id": "2_o89rUxQNfT",
    "outputId": "8b8e2d8d-c043-4e4f-c5cb-decb0c22e98a"
   },
   "outputs": [
    {
     "data": {
      "image/png": "[encoded data removed]",
      "text/plain": [
       "<Figure size 432x288 with 1 Axes>"
      ]
     },
     "metadata": {
      "needs_background": "light",
      "tags": []
     },
     "output_type": "display_data"
    }
   ],
   "source": [
    "plt.scatter(X[:, 0], X[:, 1], c= y)\n",
    "plt.show()\n"
   ]
  },
  {
   "cell_type": "code",
   "execution_count": null,
   "metadata": {
    "colab": {},
    "colab_type": "code",
    "id": "99J3BM5LQNNJ"
   },
   "outputs": [],
   "source": []
  },
  {
   "cell_type": "markdown",
   "metadata": {
    "colab_type": "text",
    "id": "PRIEVorhVdDG"
   },
   "source": [
    "#KMeans++(from Sklearn)"
   ]
  },
  {
   "cell_type": "code",
   "execution_count": null,
   "metadata": {
    "colab": {},
    "colab_type": "code",
    "id": "BoEsAb_GE6yR"
   },
   "outputs": [],
   "source": [
    "from sklearn.cluster import KMeans\n"
   ]
  },
  {
   "cell_type": "code",
   "execution_count": null,
   "metadata": {
    "colab": {},
    "colab_type": "code",
    "id": "NMtbcOelE67n"
   },
   "outputs": [],
   "source": [
    "km = KMeans(n_clusters=5)\n",
    "#press shift + tab in jupyter notebook to check about the Cluster \n",
    "# init='k-means++' defaultly kmeans is set and above we have done randomly\n"
   ]
  },
  {
   "cell_type": "markdown",
   "metadata": {
    "colab_type": "text",
    "id": "7_oPD3JXU5BB"
   },
   "source": [
    "init : {'k-means++', 'random'} or ndarray of shape             (n_clusters, n_features), default='k-means++'\n",
    "    Method for initialization, defaults to 'k-means++':\n",
    "\n",
    "    'k-means++' : selects initial cluster centers for k-mean\n",
    "    clustering in a smart way to speed up convergence. See section\n",
    "    Notes in k_init for more details.\n",
    "\n",
    "    'random': choose k observations (rows) at random from data for\n",
    "    the initial centroids.\n",
    "\n",
    "    If an ndarray is passed, it should be of shape (n_clusters, n_features)\n",
    "    and gives the initial centers.\n",
    "\n",
    "n_init : int, default=10\n",
    "    Number of time the k-means algorithm will be run with different\n",
    "    centroid seeds. The final results will be the best output of\n",
    "    n_init consecutive runs in terms of inertia."
   ]
  },
  {
   "cell_type": "code",
   "execution_count": null,
   "metadata": {
    "colab": {
     "base_uri": "https://localhost:8080/",
     "height": 67
    },
    "colab_type": "code",
    "id": "v3pMLnGVQ_dG",
    "outputId": "528b4483-4ffb-428d-b387-22158cf73d90"
   },
   "outputs": [
    {
     "data": {
      "text/plain": [
       "KMeans(algorithm='auto', copy_x=True, init='k-means++', max_iter=300,\n",
       "       n_clusters=5, n_init=10, n_jobs=None, precompute_distances='auto',\n",
       "       random_state=None, tol=0.0001, verbose=0)"
      ]
     },
     "execution_count": 8,
     "metadata": {
      "tags": []
     },
     "output_type": "execute_result"
    }
   ],
   "source": [
    "km.fit(X)\n",
    "#fit means we are training on Data (X)"
   ]
  },
  {
   "cell_type": "code",
   "execution_count": null,
   "metadata": {
    "colab": {
     "base_uri": "https://localhost:8080/",
     "height": 252
    },
    "colab_type": "code",
    "id": "359WiPJaQ_Pt",
    "outputId": "4e039bca-effe-4d82-ef2b-8d6221325ceb"
   },
   "outputs": [
    {
     "name": "stdout",
     "output_type": "stream",
     "text": [
      "[4 2 3 4 4 3 1 4 2 4 2 3 2 4 3 4 2 4 4 2 0 0 4 3 4 0 1 1 3 1 4 1 0 0 4 0 2\n",
      " 2 4 0 0 0 1 1 3 2 2 1 1 1 2 4 1 4 4 0 4 4 2 3 2 3 3 4 1 2 3 3 0 3 0 4 0 4\n",
      " 0 3 4 1 0 0 3 0 3 1 2 1 3 2 1 3 1 0 4 0 0 2 4 3 3 0 2 0 3 3 2 2 2 3 3 4 2\n",
      " 1 4 2 3 0 2 1 0 3 2 3 1 4 0 1 1 1 4 4 3 3 4 2 2 1 3 1 3 4 4 0 3 2 1 4 2 2\n",
      " 4 3 4 4 3 3 2 0 0 1 3 4 0 2 1 0 2 0 2 0 0 0 1 4 0 2 0 1 4 3 2 1 2 4 2 0 1\n",
      " 1 0 4 3 2 0 3 1 4 1 0 3 1 4 4 4 0 0 2 4 1 1 4 2 4 4 4 0 2 3 2 4 4 2 1 3 1\n",
      " 1 0 4 3 4 3 1 0 3 3 4 0 4 0 3 2 3 0 0 2 4 4 3 3 0 2 0 4 1 2 1 4 1 1 1 1 2\n",
      " 0 2 4 0 2 1 3 2 2 2 1 4 4 3 0 0 2 3 3 4 3 1 3 2 2 1 1 0 1 1 2 0 4 3 0 3 1\n",
      " 3 3 2 4 0 2 0 0 4 1 0 3 0 1 4 4 3 2 0 1 2 0 3 1 2 1 4 0 1 3 3 0 0 0 4 1 0\n",
      " 4 2 3 3 1 2 2 3 3 1 0 0 0 4 1 2 1 4 0 2 2 3 0 0 1 0 1 3 3 3 1 0 4 0 3 1 1\n",
      " 2 4 2 1 4 1 3 2 0 2 3 4 4 2 2 0 2 0 1 3 2 1 4 4 2 3 0 1 4 4 4 1 2 0 2 2 2\n",
      " 1 0 3 2 3 3 1 3 4 3 4 2 0 0 4 2 1 4 0 3 2 1 3 1 1 2 1 3 1 2 1 3 1 4 0 0 1\n",
      " 0 2 0 0 1 4 4 3 1 0 3 1 3 2 3 2 4 0 3 4 3 4 4 0 4 0 1 2 2 3 4 4 1 1 2 1 1\n",
      " 2 1 2 2 2 1 0 1 3 2 3 3 1 3 1 0 0 1 2]\n"
     ]
    }
   ],
   "source": [
    "#so it associate every point with each clusters\n",
    "print(km.labels_)"
   ]
  },
  {
   "cell_type": "code",
   "execution_count": null,
   "metadata": {
    "colab": {
     "base_uri": "https://localhost:8080/",
     "height": 101
    },
    "colab_type": "code",
    "id": "HqRf2La9RMNR",
    "outputId": "c309b405-b714-472f-df17-f782cd570139"
   },
   "outputs": [
    {
     "data": {
      "text/plain": [
       "array([[ 0.88641907,  4.19441853],\n",
       "       [-9.0671623 , -0.96740759],\n",
       "       [ 7.8649674 ,  7.97988109],\n",
       "       [-3.97953526,  0.19458336],\n",
       "       [-7.6726196 , -5.69211059]])"
      ]
     },
     "execution_count": 11,
     "metadata": {
      "tags": []
     },
     "output_type": "execute_result"
    }
   ],
   "source": [
    "km.cluster_centers_\n",
    "#this is the coordinate of centroids\n"
   ]
  },
  {
   "cell_type": "markdown",
   "metadata": {
    "colab_type": "text",
    "id": "PtDeDaEtR4bu"
   },
   "source": [
    "The KMeans algorithm clusters data by trying to separate samples in n groups of equal variance, minimizing a criterion known as the inertia or within-cluster sum-of-squares.<br>\n",
    "\n",
    "Inertia is the sum of squared error for each cluster. Therefore the smaller the inertia the denser the cluster(closer together all the points are)."
   ]
  },
  {
   "cell_type": "code",
   "execution_count": null,
   "metadata": {
    "colab": {
     "base_uri": "https://localhost:8080/",
     "height": 34
    },
    "colab_type": "code",
    "id": "ovG-YoRjRMJw",
    "outputId": "0fcacaae-baa6-4618-bb3f-eec7aa049199"
   },
   "outputs": [
    {
     "data": {
      "text/plain": [
       "999.7464835530949"
      ]
     },
     "execution_count": 12,
     "metadata": {
      "tags": []
     },
     "output_type": "execute_result"
    }
   ],
   "source": [
    "km.inertia_\n"
   ]
  },
  {
   "cell_type": "code",
   "execution_count": null,
   "metadata": {
    "colab": {
     "base_uri": "https://localhost:8080/",
     "height": 282
    },
    "colab_type": "code",
    "id": "IguMqn9pRMFa",
    "outputId": "20307ff1-bed3-4bc9-a56a-563df5caaa7c"
   },
   "outputs": [
    {
     "data": {
      "text/plain": [
       "<matplotlib.collections.PathCollection at 0x7fd71a1f6e80>"
      ]
     },
     "execution_count": 16,
     "metadata": {
      "tags": []
     },
     "output_type": "execute_result"
    },
    {
     "data": {
      "image/png": "[encoded data removed]",
      "text/plain": [
       "<Figure size 432x288 with 1 Axes>"
      ]
     },
     "metadata": {
      "needs_background": "light",
      "tags": []
     },
     "output_type": "display_data"
    }
   ],
   "source": [
    "plt.grid(True)\n",
    "plt.scatter(X[:,0], X[:, 1], c= km.labels_)\n"
   ]
  },
  {
   "cell_type": "markdown",
   "metadata": {
    "colab_type": "text",
    "id": "49hvuoRcWlQq"
   },
   "source": [
    "A fundamental step for any unsupervised algorithm is to determine the optimal number of clusters(k) into which the data may be clustered.<br>\n",
    "The Elbow Method is one of the most popular methods to determine this optimal value of k."
   ]
  },
  {
   "cell_type": "markdown",
   "metadata": {
    "colab_type": "text",
    "id": "u0oRRaCzVO8W"
   },
   "source": [
    "![995b8b58-06f1-4884-a2a1-f3648428e947](https://user-images.githubusercontent.com/42711978/87897915-5f27a800-ca6a-11ea-96b0-5b60e22d403a.png)\n"
   ]
  },
  {
   "cell_type": "markdown",
   "metadata": {
    "colab_type": "text",
    "id": "F-Yn6w5EWlBJ"
   },
   "source": [
    "The Elbow method runs k-means clustering on the dataset for a range of values for k (say from 1-10) <br>\n",
    "and then for each value of k computes an average score for all clusters.<br>\n",
    " \n",
    "By default, the distortion score is computed, the sum of square distances from each point to its assigned center."
   ]
  },
  {
   "cell_type": "markdown",
   "metadata": {
    "colab_type": "text",
    "id": "y2tj_n0Tutig"
   },
   "source": [
    "#Dominant color Extraction"
   ]
  },
  {
   "cell_type": "markdown",
   "metadata": {
    "colab_type": "text",
    "id": "aT6GG8I5u1Oz"
   },
   "source": [
    "![maldives-island](https://user-images.githubusercontent.com/42711978/87903363-71f5a900-ca79-11ea-9317-3c7dc7eccc27.jpg)\n"
   ]
  },
  {
   "cell_type": "code",
   "execution_count": 24,
   "metadata": {
    "colab": {},
    "colab_type": "code",
    "id": "5wEdgwDkvjSL"
   },
   "outputs": [],
   "source": [
    "import cv2"
   ]
  },
  {
   "cell_type": "code",
   "execution_count": 117,
   "metadata": {
    "colab": {},
    "colab_type": "code",
    "id": "q_qqmnr-xZwS"
   },
   "outputs": [],
   "source": [
    "from skimage import io\n",
    "#The following reads the image directly into a NumPy array\n",
    "img= io.imread('https://user-images.githubusercontent.com/42711978/87903363-71f5a900-ca79-11ea-9317-3c7dc7eccc27.jpg')"
   ]
  },
  {
   "cell_type": "code",
   "execution_count": 118,
   "metadata": {
    "colab": {
     "base_uri": "https://localhost:8080/",
     "height": 34
    },
    "colab_type": "code",
    "id": "aa0qXG4ExgIE",
    "outputId": "c13eeb13-47d6-4453-9148-8d8aedd1c51d"
   },
   "outputs": [
    {
     "data": {
      "text/plain": [
       "numpy.ndarray"
      ]
     },
     "execution_count": 118,
     "metadata": {
      "tags": []
     },
     "output_type": "execute_result"
    }
   ],
   "source": [
    "type(img)\n"
   ]
  },
  {
   "cell_type": "code",
   "execution_count": 119,
   "metadata": {
    "colab": {
     "base_uri": "https://localhost:8080/",
     "height": 34
    },
    "colab_type": "code",
    "id": "5Dh0XPtByTzS",
    "outputId": "f598240d-f1a5-4ca6-a464-bf2072f3934e"
   },
   "outputs": [
    {
     "data": {
      "text/plain": [
       "(1200, 1600, 3)"
      ]
     },
     "execution_count": 119,
     "metadata": {
      "tags": []
     },
     "output_type": "execute_result"
    }
   ],
   "source": [
    "img.shape"
   ]
  },
  {
   "cell_type": "code",
   "execution_count": 120,
   "metadata": {
    "colab": {
     "base_uri": "https://localhost:8080/",
     "height": 194
    },
    "colab_type": "code",
    "id": "LWo1Et_nzzud",
    "outputId": "dff40245-f1a1-47c1-8d70-014bd795d795"
   },
   "outputs": [
    {
     "data": {
      "image/png": "[encoded data removed]",
      "text/plain": [
       "<Figure size 1440x216 with 1 Axes>"
      ]
     },
     "metadata": {
      "needs_background": "light",
      "tags": []
     },
     "output_type": "display_data"
    }
   ],
   "source": [
    "plt.imshow(img)\n",
    "plt.axis(False)\n",
    "plt.show()\n"
   ]
  },
  {
   "cell_type": "code",
   "execution_count": 121,
   "metadata": {
    "colab": {},
    "colab_type": "code",
    "id": "f8btPcV70DW8"
   },
   "outputs": [],
   "source": [
    "#it converts the MxNx3 image into a Kx3 matrix where K=MxN \n",
    "# Each row is now a vector in the 3-D space of RGB\n",
    "all_pixels=img.reshape((-1,3))"
   ]
  },
  {
   "cell_type": "code",
   "execution_count": 122,
   "metadata": {
    "colab": {
     "base_uri": "https://localhost:8080/",
     "height": 34
    },
    "colab_type": "code",
    "id": "_7BG9Sa_0zz2",
    "outputId": "92bcede1-47d5-4fd3-97d6-231e48824cc8"
   },
   "outputs": [
    {
     "data": {
      "text/plain": [
       "(1920000, 3)"
      ]
     },
     "execution_count": 122,
     "metadata": {
      "tags": []
     },
     "output_type": "execute_result"
    }
   ],
   "source": [
    "all_pixels.shape\n"
   ]
  },
  {
   "cell_type": "code",
   "execution_count": 123,
   "metadata": {
    "colab": {},
    "colab_type": "code",
    "id": "Kr-5dYl302c8"
   },
   "outputs": [],
   "source": [
    "from sklearn.cluster import KMeans\n"
   ]
  },
  {
   "cell_type": "markdown",
   "metadata": {
    "colab_type": "text",
    "id": "k1je6SIO66GY"
   },
   "source": [
    "We are going to cluster with k = 4 because if we look at the image above it has 4 colors<br>==>Sky, Forest, Sea and  Seashore."
   ]
  },
  {
   "cell_type": "code",
   "execution_count": 124,
   "metadata": {
    "colab": {},
    "colab_type": "code",
    "id": "bIck2-BS05b_"
   },
   "outputs": [],
   "source": [
    "k=4\n",
    "km=KMeans(n_clusters=k)"
   ]
  },
  {
   "cell_type": "code",
   "execution_count": 125,
   "metadata": {
    "colab": {
     "base_uri": "https://localhost:8080/",
     "height": 67
    },
    "colab_type": "code",
    "id": "9DkHx-Rs0-ci",
    "outputId": "ca07a1f1-f75f-4e55-87a2-a366c3c76866"
   },
   "outputs": [
    {
     "data": {
      "text/plain": [
       "KMeans(algorithm='auto', copy_x=True, init='k-means++', max_iter=300,\n",
       "       n_clusters=4, n_init=10, n_jobs=None, precompute_distances='auto',\n",
       "       random_state=None, tol=0.0001, verbose=0)"
      ]
     },
     "execution_count": 125,
     "metadata": {
      "tags": []
     },
     "output_type": "execute_result"
    }
   ],
   "source": [
    "km.fit(all_pixels)"
   ]
  },
  {
   "cell_type": "code",
   "execution_count": 126,
   "metadata": {
    "colab": {
     "base_uri": "https://localhost:8080/",
     "height": 84
    },
    "colab_type": "code",
    "id": "y3IoK-eH1A94",
    "outputId": "c532b2a2-7b5f-4a30-cbd4-e8ce4e327854"
   },
   "outputs": [
    {
     "data": {
      "text/plain": [
       "array([[  6.54741117, 106.68291717, 225.19832517],\n",
       "       [ 29.9804088 , 216.28432676, 241.09338714],\n",
       "       [ 42.48260854,  73.84196298,  33.66321841],\n",
       "       [145.43074911, 241.22896578, 243.18741988]])"
      ]
     },
     "execution_count": 126,
     "metadata": {
      "tags": []
     },
     "output_type": "execute_result"
    }
   ],
   "source": [
    "km.cluster_centers_"
   ]
  },
  {
   "cell_type": "code",
   "execution_count": 127,
   "metadata": {
    "colab": {},
    "colab_type": "code",
    "id": "JYhW7Cfn1Ff7"
   },
   "outputs": [],
   "source": [
    "centers=np.array(km.cluster_centers_,dtype=\"uint\")"
   ]
  },
  {
   "cell_type": "code",
   "execution_count": 128,
   "metadata": {
    "colab": {
     "base_uri": "https://localhost:8080/",
     "height": 84
    },
    "colab_type": "code",
    "id": "W9z956XN1Ioh",
    "outputId": "24ca2f3f-4a6f-49a9-a9f8-6cc99291e7fd"
   },
   "outputs": [
    {
     "data": {
      "text/plain": [
       "array([[  6, 106, 225],\n",
       "       [ 29, 216, 241],\n",
       "       [ 42,  73,  33],\n",
       "       [145, 241, 243]], dtype=uint64)"
      ]
     },
     "execution_count": 128,
     "metadata": {
      "tags": []
     },
     "output_type": "execute_result"
    }
   ],
   "source": [
    "centers"
   ]
  },
  {
   "cell_type": "code",
   "execution_count": 129,
   "metadata": {
    "colab": {
     "base_uri": "https://localhost:8080/",
     "height": 725
    },
    "colab_type": "code",
    "id": "KHL_V1N71LdZ",
    "outputId": "dd2d7981-5324-411d-d75d-0bb4413bf136"
   },
   "outputs": [
    {
     "data": {
      "image/png": "[encoded data removed]",
      "text/plain": [
       "<Figure size 1440x216 with 1 Axes>"
      ]
     },
     "metadata": {
      "needs_background": "light",
      "tags": []
     },
     "output_type": "display_data"
    },
    {
     "data": {
      "image/png": "[encoded data removed]",
      "text/plain": [
       "<Figure size 1440x216 with 1 Axes>"
      ]
     },
     "metadata": {
      "needs_background": "light",
      "tags": []
     },
     "output_type": "display_data"
    },
    {
     "data": {
      "image/png": "[encoded data removed]",
      "text/plain": [
       "<Figure size 1440x216 with 1 Axes>"
      ]
     },
     "metadata": {
      "needs_background": "light",
      "tags": []
     },
     "output_type": "display_data"
    },
    {
     "data": {
      "image/png": "[encoded data removed]",
      "text/plain": [
       "<Figure size 1440x216 with 1 Axes>"
      ]
     },
     "metadata": {
      "needs_background": "light",
      "tags": []
     },
     "output_type": "display_data"
    }
   ],
   "source": [
    "for c in centers:\n",
    "    a=np.zeros((100,100,3))\n",
    "    a[:,:,:]=c\n",
    "    \n",
    "    plt.imshow(a/255)\n",
    "    plt.axis(\"off\")\n",
    "    plt.show()"
   ]
  },
  {
   "cell_type": "code",
   "execution_count": 130,
   "metadata": {
    "colab": {
     "base_uri": "https://localhost:8080/",
     "height": 34
    },
    "colab_type": "code",
    "id": "sOfd-oyt1ONK",
    "outputId": "be4f6cd9-e111-4e1d-84b6-5aa86b401110"
   },
   "outputs": [
    {
     "data": {
      "text/plain": [
       "array([0, 0, 0, ..., 1, 1, 1], dtype=int32)"
      ]
     },
     "execution_count": 130,
     "metadata": {
      "tags": []
     },
     "output_type": "execute_result"
    }
   ],
   "source": [
    "km.labels_"
   ]
  },
  {
   "cell_type": "code",
   "execution_count": 131,
   "metadata": {
    "colab": {},
    "colab_type": "code",
    "id": "MOSSewYX1Tgi"
   },
   "outputs": [],
   "source": [
    "new_img = np.zeros((all_pixels.shape[0], 3), dtype=\"uint\")"
   ]
  },
  {
   "cell_type": "code",
   "execution_count": 132,
   "metadata": {
    "colab": {
     "base_uri": "https://localhost:8080/",
     "height": 34
    },
    "colab_type": "code",
    "id": "trbF4qLb1Xgx",
    "outputId": "fc084bb8-ce3d-473f-abb7-1b04bea6470c"
   },
   "outputs": [
    {
     "data": {
      "text/plain": [
       "(1920000, 3)"
      ]
     },
     "execution_count": 132,
     "metadata": {
      "tags": []
     },
     "output_type": "execute_result"
    }
   ],
   "source": [
    "new_img.shape"
   ]
  },
  {
   "cell_type": "code",
   "execution_count": 133,
   "metadata": {
    "colab": {},
    "colab_type": "code",
    "id": "xrmBNyEP1ZvR"
   },
   "outputs": [],
   "source": [
    "# giving appropriate colors to the pixel/data points of new image\n",
    "for ix in range(all_pixels.shape[0]):\n",
    "    new_img[ix] = centers[km.labels_[ix]]"
   ]
  },
  {
   "cell_type": "code",
   "execution_count": 134,
   "metadata": {
    "colab": {
     "base_uri": "https://localhost:8080/",
     "height": 134
    },
    "colab_type": "code",
    "id": "-yaxfOlc1eff",
    "outputId": "d08af043-6e10-4182-eda0-be3d42dd2112"
   },
   "outputs": [
    {
     "data": {
      "text/plain": [
       "array([[  6, 106, 225],\n",
       "       [  6, 106, 225],\n",
       "       [  6, 106, 225],\n",
       "       ...,\n",
       "       [ 29, 216, 241],\n",
       "       [ 29, 216, 241],\n",
       "       [ 29, 216, 241]], dtype=uint64)"
      ]
     },
     "execution_count": 134,
     "metadata": {
      "tags": []
     },
     "output_type": "execute_result"
    }
   ],
   "source": [
    "new_img\n"
   ]
  },
  {
   "cell_type": "code",
   "execution_count": 135,
   "metadata": {
    "colab": {},
    "colab_type": "code",
    "id": "g-3KQiHa1gcK"
   },
   "outputs": [],
   "source": [
    "new_img = new_img.reshape((1200, 1600,3))\n"
   ]
  },
  {
   "cell_type": "code",
   "execution_count": 136,
   "metadata": {
    "colab": {
     "base_uri": "https://localhost:8080/",
     "height": 194
    },
    "colab_type": "code",
    "id": "awKim5FR1pIa",
    "outputId": "3b763c9d-0d9d-4d88-fd20-ceaddca66a0d"
   },
   "outputs": [
    {
     "data": {
      "image/png": "[encoded data removed]",
      "text/plain": [
       "<Figure size 1440x216 with 1 Axes>"
      ]
     },
     "metadata": {
      "needs_background": "light",
      "tags": []
     },
     "output_type": "display_data"
    }
   ],
   "source": [
    "plt.imshow(new_img)\n",
    "plt.axis(\"off\")\n",
    "plt.show()"
   ]
  },
  {
   "cell_type": "markdown",
   "metadata": {
    "colab_type": "text",
    "id": "yhOG8raiJWTC"
   },
   "source": [
    "#Try Out this image "
   ]
  },
  {
   "cell_type": "markdown",
   "metadata": {
    "colab_type": "text",
    "id": "GT0dvdWkJDtE"
   },
   "source": [
    "\n",
    "![1_eNA8yGWbWZcmjQ8K4HuTCw](https://user-images.githubusercontent.com/42711978/87936403-6671a480-cab0-11ea-931c-269280feafa8.png)\n"
   ]
  },
  {
   "cell_type": "code",
   "execution_count": 137,
   "metadata": {
    "colab": {},
    "colab_type": "code",
    "id": "QPrLdhm188g3"
   },
   "outputs": [],
   "source": [
    "from skimage import io\n",
    "#The following reads the image directly into a NumPy array\n",
    "img2= io.imread('https://user-images.githubusercontent.com/42711978/87903363-71f5a900-ca79-11ea-9317-3c7dc7eccc27.jpg')"
   ]
  },
  {
   "cell_type": "code",
   "execution_count": 109,
   "metadata": {
    "colab": {},
    "colab_type": "code",
    "id": "vX0vMfPo35Ra"
   },
   "outputs": [],
   "source": []
  },
  {
   "cell_type": "code",
   "execution_count": null,
   "metadata": {
    "colab": {},
    "colab_type": "code",
    "id": "lXpICtC68FF7"
   },
   "outputs": [],
   "source": []
  },
  {
   "cell_type": "markdown",
   "metadata": {
    "colab_type": "text",
    "id": "LPPoGRLNUq70"
   },
   "source": [
    "#Clustering ANALYSIS EXAMPLE"
   ]
  },
  {
   "cell_type": "code",
   "execution_count": 21,
   "metadata": {
    "colab": {},
    "colab_type": "code",
    "id": "1FkCrwjyJp16"
   },
   "outputs": [],
   "source": [
    "import pandas as pd"
   ]
  },
  {
   "cell_type": "code",
   "execution_count": 22,
   "metadata": {
    "colab": {},
    "colab_type": "code",
    "id": "BtviZptuVqZo"
   },
   "outputs": [],
   "source": [
    "data=pd.read_csv(\"https://raw.githubusercontent.com/aryangulati/Python_Code/master/12.)Clustering/Mall_Customers.csv\")\n"
   ]
  },
  {
   "cell_type": "code",
   "execution_count": 23,
   "metadata": {
    "colab": {
     "base_uri": "https://localhost:8080/",
     "height": 195
    },
    "colab_type": "code",
    "id": "vrON8JWVV1DX",
    "outputId": "2f846ff4-c0d3-4490-c068-a7011f008eec"
   },
   "outputs": [
    {
     "data": {
      "text/html": [
       "<div>\n",
       "<style scoped>\n",
       "    .dataframe tbody tr th:only-of-type {\n",
       "        vertical-align: middle;\n",
       "    }\n",
       "\n",
       "    .dataframe tbody tr th {\n",
       "        vertical-align: top;\n",
       "    }\n",
       "\n",
       "    .dataframe thead th {\n",
       "        text-align: right;\n",
       "    }\n",
       "</style>\n",
       "<table border=\"1\" class=\"dataframe\">\n",
       "  <thead>\n",
       "    <tr style=\"text-align: right;\">\n",
       "      <th></th>\n",
       "      <th>CustomerID</th>\n",
       "      <th>Genre</th>\n",
       "      <th>Age</th>\n",
       "      <th>Annual Income (k$)</th>\n",
       "      <th>Spending Score (1-100)</th>\n",
       "    </tr>\n",
       "  </thead>\n",
       "  <tbody>\n",
       "    <tr>\n",
       "      <th>0</th>\n",
       "      <td>1</td>\n",
       "      <td>Male</td>\n",
       "      <td>19</td>\n",
       "      <td>15</td>\n",
       "      <td>39</td>\n",
       "    </tr>\n",
       "    <tr>\n",
       "      <th>1</th>\n",
       "      <td>2</td>\n",
       "      <td>Male</td>\n",
       "      <td>21</td>\n",
       "      <td>15</td>\n",
       "      <td>81</td>\n",
       "    </tr>\n",
       "    <tr>\n",
       "      <th>2</th>\n",
       "      <td>3</td>\n",
       "      <td>Female</td>\n",
       "      <td>20</td>\n",
       "      <td>16</td>\n",
       "      <td>6</td>\n",
       "    </tr>\n",
       "    <tr>\n",
       "      <th>3</th>\n",
       "      <td>4</td>\n",
       "      <td>Female</td>\n",
       "      <td>23</td>\n",
       "      <td>16</td>\n",
       "      <td>77</td>\n",
       "    </tr>\n",
       "    <tr>\n",
       "      <th>4</th>\n",
       "      <td>5</td>\n",
       "      <td>Female</td>\n",
       "      <td>31</td>\n",
       "      <td>17</td>\n",
       "      <td>40</td>\n",
       "    </tr>\n",
       "  </tbody>\n",
       "</table>\n",
       "</div>"
      ],
      "text/plain": [
       "   CustomerID   Genre  Age  Annual Income (k$)  Spending Score (1-100)\n",
       "0           1    Male   19                  15                      39\n",
       "1           2    Male   21                  15                      81\n",
       "2           3  Female   20                  16                       6\n",
       "3           4  Female   23                  16                      77\n",
       "4           5  Female   31                  17                      40"
      ]
     },
     "execution_count": 23,
     "metadata": {
      "tags": []
     },
     "output_type": "execute_result"
    }
   ],
   "source": [
    "data.head()"
   ]
  },
  {
   "cell_type": "code",
   "execution_count": 24,
   "metadata": {
    "colab": {},
    "colab_type": "code",
    "id": "G5xVOQslV8Mo"
   },
   "outputs": [],
   "source": [
    "X = data.iloc[:, [3, 4]].values"
   ]
  },
  {
   "cell_type": "code",
   "execution_count": 25,
   "metadata": {
    "colab": {
     "base_uri": "https://localhost:8080/",
     "height": 101
    },
    "colab_type": "code",
    "id": "V-8fD9P4WADS",
    "outputId": "b1bd94b5-5cc6-4750-dbc8-5e79f55cce1e"
   },
   "outputs": [
    {
     "data": {
      "text/plain": [
       "array([[15, 39],\n",
       "       [15, 81],\n",
       "       [16,  6],\n",
       "       [16, 77],\n",
       "       [17, 40]])"
      ]
     },
     "execution_count": 25,
     "metadata": {
      "tags": []
     },
     "output_type": "execute_result"
    }
   ],
   "source": [
    "X[:5]"
   ]
  },
  {
   "cell_type": "markdown",
   "metadata": {
    "colab_type": "text",
    "id": "Ca2gRrSxXlE_"
   },
   "source": [
    "**WCSS**\n",
    "An ideal way to figure out the right number of clusters would be to calculate the Within-Cluster-Sum-of-Squares (WCSS).<br> WCSS is the sum of squares of the distances of each data point in all clusters to their respective centroids. The idea is to minimise the sum."
   ]
  },
  {
   "cell_type": "markdown",
   "metadata": {
    "colab_type": "text",
    "id": "QKOpJMPjY8a0"
   },
   "source": [
    "![KMEANS-WCSS-DEF-1024x386](https://user-images.githubusercontent.com/42711978/87970313-2c6cc680-cae1-11ea-865b-a775d7d06ec1.png)\n"
   ]
  },
  {
   "cell_type": "markdown",
   "metadata": {
    "colab_type": "text",
    "id": "8DBoCtfEZG8U"
   },
   "source": [
    "![1_vLTnh9xdgHvyC8WDNwcQQw](https://user-images.githubusercontent.com/42711978/87970465-6c33ae00-cae1-11ea-82bd-a826ec115d0d.png)\n",
    "number of cluster==>\n",
    "\n",
    "so in this example at k=3 we have minimum WCSS"
   ]
  },
  {
   "cell_type": "code",
   "execution_count": 40,
   "metadata": {
    "colab": {
     "base_uri": "https://localhost:8080/",
     "height": 350
    },
    "colab_type": "code",
    "id": "dmE4GChfXu6K",
    "outputId": "2cfc78f4-66db-4be6-f5e2-ec75b49c9f4e"
   },
   "outputs": [
    {
     "data": {
      "image/png": "[encoded data removed]",
      "text/plain": [
       "<Figure size 1080x360 with 1 Axes>"
      ]
     },
     "metadata": {
      "needs_background": "light",
      "tags": []
     },
     "output_type": "display_data"
    }
   ],
   "source": [
    "from sklearn.cluster import KMeans\n",
    "wcss = []\n",
    "for i in range(1,21):\n",
    "    kmeans = KMeans(n_clusters = i, init = 'k-means++', random_state = 42)\n",
    "    kmeans.fit(X)\n",
    "    wcss.append(kmeans.inertia_)\n",
    "plt.rcParams['figure.figsize'] = (15, 5)\n",
    "plt.plot(range(1,21), wcss)\n",
    "plt.title('The Elbow Method')\n",
    "plt.xlabel('Number of clusters')\n",
    "plt.ylabel('WCSS')\n",
    "plt.grid()\n",
    "plt.show()"
   ]
  },
  {
   "cell_type": "markdown",
   "metadata": {
    "colab_type": "text",
    "id": "NKp_5hZbaToC"
   },
   "source": [
    "so we can see At k=5 our WCSS=>Average within-cluster Sum of Squares\n",
    "\n",
    "\n",
    "\n"
   ]
  },
  {
   "cell_type": "code",
   "execution_count": 41,
   "metadata": {
    "colab": {
     "base_uri": "https://localhost:8080/",
     "height": 185
    },
    "colab_type": "code",
    "id": "uhQr0tdFZ2_i",
    "outputId": "89faed95-0c6e-41a8-fdaf-67d5dd143ef1"
   },
   "outputs": [
    {
     "data": {
      "text/plain": [
       "array([3, 0, 3, 0, 3, 0, 3, 0, 3, 0, 3, 0, 3, 0, 3, 0, 3, 0, 3, 0, 3, 0,\n",
       "       3, 0, 3, 0, 3, 0, 3, 0, 3, 0, 3, 0, 3, 0, 3, 0, 3, 0, 3, 0, 3, 1,\n",
       "       3, 0, 1, 1, 1, 1, 1, 1, 1, 1, 1, 1, 1, 1, 1, 1, 1, 1, 1, 1, 1, 1,\n",
       "       1, 1, 1, 1, 1, 1, 1, 1, 1, 1, 1, 1, 1, 1, 1, 1, 1, 1, 1, 1, 1, 1,\n",
       "       1, 1, 1, 1, 1, 1, 1, 1, 1, 1, 1, 1, 1, 1, 1, 1, 1, 1, 1, 1, 1, 1,\n",
       "       1, 1, 1, 1, 1, 1, 1, 1, 1, 1, 1, 1, 1, 2, 4, 2, 1, 2, 4, 2, 4, 2,\n",
       "       1, 2, 4, 2, 4, 2, 4, 2, 4, 2, 1, 2, 4, 2, 4, 2, 4, 2, 4, 2, 4, 2,\n",
       "       4, 2, 4, 2, 4, 2, 4, 2, 4, 2, 4, 2, 4, 2, 4, 2, 4, 2, 4, 2, 4, 2,\n",
       "       4, 2, 4, 2, 4, 2, 4, 2, 4, 2, 4, 2, 4, 2, 4, 2, 4, 2, 4, 2, 4, 2,\n",
       "       4, 2], dtype=int32)"
      ]
     },
     "execution_count": 41,
     "metadata": {
      "tags": []
     },
     "output_type": "execute_result"
    }
   ],
   "source": [
    "kmeans = KMeans(n_clusters = 5, init = 'k-means++', random_state = 42)\n",
    "kmeans.fit_predict(X)"
   ]
  },
  {
   "cell_type": "code",
   "execution_count": 42,
   "metadata": {
    "colab": {},
    "colab_type": "code",
    "id": "_oe0IxMDax5E"
   },
   "outputs": [],
   "source": [
    "X_pts=kmeans.fit_predict(X)"
   ]
  },
  {
   "cell_type": "code",
   "execution_count": 43,
   "metadata": {
    "colab": {
     "base_uri": "https://localhost:8080/",
     "height": 355
    },
    "colab_type": "code",
    "id": "MiTo40Wca17i",
    "outputId": "67e9a788-6d3f-45d3-d51b-3cd8c85e0d6f"
   },
   "outputs": [
    {
     "data": {
      "image/png": "[encoded data removed]",
      "text/plain": [
       "<Figure size 1080x360 with 1 Axes>"
      ]
     },
     "metadata": {
      "needs_background": "light",
      "tags": []
     },
     "output_type": "display_data"
    }
   ],
   "source": [
    "plt.scatter(X[X_pts == 0, 0], X[X_pts == 0, 1], s = 100, c = 'orange', label = 'Spendthrift')\n",
    "plt.scatter(X[X_pts == 1, 0], X[X_pts == 1, 1], s = 100, c = 'yellow', label = 'General')\n",
    "plt.scatter(X[X_pts == 2, 0], X[X_pts == 2, 1], s = 100, c = 'lightgreen', label = 'Ambitious')\n",
    "plt.scatter(X[X_pts == 3, 0], X[X_pts == 3, 1], s = 100, c = 'cyan', label = 'Concerned')\n",
    "plt.scatter(X[X_pts == 4, 0], X[X_pts == 4, 1], s = 100, c = 'pink', label = 'Miser')\n",
    "plt.scatter(kmeans.cluster_centers_[:, 0], kmeans.cluster_centers_[:, 1],marker=\"*\", s = 500, c = 'red', label = 'Centroids')\n",
    "plt.title('Clusters of Mall customers',fontsize=20)\n",
    "plt.xlabel('Annual Income')\n",
    "plt.ylabel('Spending Score (1-100)')\n",
    "plt.legend()\n",
    "plt.show()"
   ]
  },
  {
   "cell_type": "markdown",
   "metadata": {
    "colab_type": "text",
    "id": "5cu2lBSTkR0H"
   },
   "source": [
    "So Clustering Give us a clear view about the different types of the customers in the Mall. <br>\n",
    "There are Five types of Customers based on their Annual Income and Spending Score which are reportedly the best factors/attributes to determine the segments of a customer in a Mall."
   ]
  },
  {
   "cell_type": "code",
   "execution_count": 61,
   "metadata": {
    "colab": {
     "base_uri": "https://localhost:8080/",
     "height": 34
    },
    "colab_type": "code",
    "id": "lslp30v9k3u8",
    "outputId": "bdb577b9-9bbd-48e5-893a-d348d0f66f52"
   },
   "outputs": [
    {
     "data": {
      "text/plain": [
       "(200, 2)"
      ]
     },
     "execution_count": 61,
     "metadata": {
      "tags": []
     },
     "output_type": "execute_result"
    }
   ],
   "source": [
    "x1= data.iloc[:, [2, 4]].values\n",
    "x1.shape"
   ]
  },
  {
   "cell_type": "code",
   "execution_count": 62,
   "metadata": {
    "colab": {
     "base_uri": "https://localhost:8080/",
     "height": 246
    },
    "colab_type": "code",
    "id": "TxFIN9NVmw6I",
    "outputId": "a4f7734b-b8a3-4cac-bae2-57b213af3be2"
   },
   "outputs": [
    {
     "data": {
      "image/png": "[encoded data removed]",
      "text/plain": [
       "<Figure size 1080x360 with 1 Axes>"
      ]
     },
     "metadata": {
      "tags": []
     },
     "output_type": "display_data"
    }
   ],
   "source": [
    "wcss=[]\n",
    "for i in range(1, 21):\n",
    "    kmeans = KMeans(n_clusters = i, init = 'k-means++',random_state = 42)\n",
    "    kmeans.fit(x1)\n",
    "    wcss.append(kmeans.inertia_)\n",
    "\n",
    "plt.rcParams['figure.figsize'] = (15, 5)\n",
    "plt.plot(range(1, 21), wcss)\n",
    "plt.title('K-Means Clustering(The Elbow Method)', fontsize = 20)\n",
    "plt.xlabel('Age')\n",
    "plt.ylabel('Count')\n",
    "plt.grid()\n",
    "plt.show()"
   ]
  },
  {
   "cell_type": "markdown",
   "metadata": {
    "colab_type": "text",
    "id": "IIlty0uanFZf"
   },
   "source": [
    "so we can see At k=4 our WCSS=>Average within-cluster Sum of Squares<br>\n",
    "as 2.5+5.0/2=3.75\n",
    "so lets take 4\n"
   ]
  },
  {
   "cell_type": "code",
   "execution_count": 67,
   "metadata": {
    "colab": {},
    "colab_type": "code",
    "id": "FZnKp45zoFqn"
   },
   "outputs": [],
   "source": [
    "km = KMeans(n_clusters = 4, init = 'k-means++', random_state = 42)\n",
    "x1pts = km.fit_predict(x1)"
   ]
  },
  {
   "cell_type": "code",
   "execution_count": 68,
   "metadata": {
    "colab": {
     "base_uri": "https://localhost:8080/",
     "height": 252
    },
    "colab_type": "code",
    "id": "PWkZy_-0m73Z",
    "outputId": "813f6aab-3f01-4cc2-901e-175f93bb8160"
   },
   "outputs": [
    {
     "data": {
      "image/png": "[encoded data removed]",
      "text/plain": [
       "<Figure size 1080x360 with 1 Axes>"
      ]
     },
     "metadata": {
      "tags": []
     },
     "output_type": "display_data"
    }
   ],
   "source": [
    "plt.scatter(x1[x1pts == 0, 0], x1[x1pts == 0, 1], s = 100, c = 'orange', label = 'Old Age Constumers')\n",
    "plt.scatter(x1[x1pts == 1, 0], x1[x1pts == 1, 1], s = 100, c = 'yellow', label = 'Young Constumers')\n",
    "plt.scatter(x1[x1pts == 2, 0], x1[x1pts == 2, 1], s = 100, c = 'lightgreen', label = 'Priority Constumers')\n",
    "plt.scatter(x1[x1pts == 3, 0], x1[x1pts == 3, 1], s = 100, c = 'cyan', label = 'Usual Constumers')\n",
    "plt.scatter(km.cluster_centers_[:, 0], km.cluster_centers_[:, 1],marker=\"*\", s = 500, c = 'red', label = 'Centroids')\n",
    "plt.style.use('fivethirtyeight')\n",
    "plt.title('Clusters of Ages',fontsize=20)\n",
    "plt.xlabel(\"Age\")\n",
    "plt.ylabel('Spending Score (1-100)')\n",
    "plt.legend()\n",
    "plt.show()"
   ]
  },
  {
   "cell_type": "markdown",
   "metadata": {
    "colab_type": "text",
    "id": "6W4tnTeKqAfu"
   },
   "source": [
    "Above clustering plot between the age of the customers and their corresponding spending scores, I have aggregated them into 4 different clusters<br>\n",
    "Then after getting the results we can accordingly make different marketing strategies and policies to optimize the spending scores of the customer in the Mall."
   ]
  },
  {
   "cell_type": "code",
   "execution_count": 70,
   "metadata": {
    "colab": {},
    "colab_type": "code",
    "id": "qPLa1KAVn9a-"
   },
   "outputs": [],
   "source": [
    "x = data[['Age', 'Spending Score (1-100)', 'Annual Income (k$)']].values\n",
    "#values here is for converting into numpy\n",
    "km = KMeans(n_clusters = 5, init = 'k-means++', max_iter = 300, n_init = 10, random_state = 0)\n",
    "km.fit(x)\n",
    "labels = km.labels_\n",
    "centroids = km.cluster_centers_"
   ]
  },
  {
   "cell_type": "code",
   "execution_count": 75,
   "metadata": {
    "colab": {},
    "colab_type": "code",
    "id": "i-0JPz0cqUcS"
   },
   "outputs": [],
   "source": []
  },
  {
   "cell_type": "markdown",
   "metadata": {
    "colab": {},
    "colab_type": "code",
    "id": "3p6lo5aprC3K"
   },
   "source": []
  },
  {
   "cell_type": "code",
   "execution_count": null,
   "metadata": {},
   "outputs": [],
   "source": []
  }
 ],
 "metadata": {
  "colab": {
   "name": "K-means Clustering ",
   "provenance": []
  },
  "kernelspec": {
   "display_name": "Python 3",
   "language": "python",
   "name": "python3"
  },
  "language_info": {
   "codemirror_mode": {
    "name": "ipython",
    "version": 3
   },
   "file_extension": ".py",
   "mimetype": "text/x-python",
   "name": "python",
   "nbconvert_exporter": "python",
   "pygments_lexer": "ipython3",
   "version": "3.8.3"
  }
 },
 "nbformat": 4,
 "nbformat_minor": 1
}
