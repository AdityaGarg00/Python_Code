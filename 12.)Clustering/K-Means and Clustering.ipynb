{
 "cells": [
  {
   "cell_type": "code",
   "execution_count": 56,
   "metadata": {},
   "outputs": [],
   "source": [
    "import numpy as np\n",
    "import matplotlib.pyplot as plt\n",
    "from sklearn.datasets import make_blobs"
   ]
  },
  {
   "cell_type": "code",
   "execution_count": 57,
   "metadata": {},
   "outputs": [],
   "source": [
    "#Generate isotropic Gaussian blobs for clustering.\n",
    "#it basically create cluster we will not use y \n",
    "#or _in place of y as unsupervised learning\n",
    "#X,y =make_blobs(n_samples=500,n_features=2,centers=5,random_state=6)"
   ]
  },
  {
   "cell_type": "code",
   "execution_count": 58,
   "metadata": {},
   "outputs": [
    {
     "data": {
      "text/plain": [
       "array([[ -7.32786741,   4.23641465],\n",
       "       [  1.12565931,   6.32088416],\n",
       "       [ -0.49239887,  -5.28550826],\n",
       "       [ -7.12432134,   6.16236021],\n",
       "       [  2.38696269,   4.11331935],\n",
       "       [  6.55519802, -10.28277104],\n",
       "       [ -4.60484127,   4.27470475],\n",
       "       [ -1.27010839,  -6.55718306],\n",
       "       [  5.77989048,  -9.7922405 ],\n",
       "       [ -7.72699176,  -9.47166311]])"
      ]
     },
     "execution_count": 58,
     "metadata": {},
     "output_type": "execute_result"
    }
   ],
   "source": [
    "X[:10]\n"
   ]
  },
  {
   "cell_type": "code",
   "execution_count": 59,
   "metadata": {},
   "outputs": [
    {
     "data": {
      "text/plain": [
       "(500, 2)"
      ]
     },
     "execution_count": 59,
     "metadata": {},
     "output_type": "execute_result"
    }
   ],
   "source": [
    "X.shape"
   ]
  },
  {
   "cell_type": "code",
   "execution_count": 60,
   "metadata": {},
   "outputs": [],
   "source": [
    "#y[:10]"
   ]
  },
  {
   "cell_type": "code",
   "execution_count": 61,
   "metadata": {},
   "outputs": [],
   "source": [
    "#y.shape"
   ]
  },
  {
   "cell_type": "code",
   "execution_count": 62,
   "metadata": {},
   "outputs": [],
   "source": [
    "X ,_=make_blobs(n_samples=500,n_features=2,centers=5,random_state=10)\n",
    "#centers is for how many groups we want"
   ]
  },
  {
   "cell_type": "code",
   "execution_count": 63,
   "metadata": {},
   "outputs": [
    {
     "data": {
      "text/plain": [
       "array([-7.32786741,  1.12565931, -0.49239887, -7.12432134,  2.38696269,\n",
       "        6.55519802, -4.60484127, -1.27010839,  5.77989048, -7.72699176])"
      ]
     },
     "execution_count": 63,
     "metadata": {},
     "output_type": "execute_result"
    }
   ],
   "source": [
    "X[:10,0]"
   ]
  },
  {
   "cell_type": "code",
   "execution_count": 64,
   "metadata": {},
   "outputs": [
    {
     "data": {
      "text/plain": [
       "<matplotlib.collections.PathCollection at 0x1d41db88888>"
      ]
     },
     "execution_count": 64,
     "metadata": {},
     "output_type": "execute_result"
    },
    {
     "data": {
      "image/png": "[encoded data removed]",
      "text/plain": [
       "<Figure size 432x288 with 1 Axes>"
      ]
     },
     "metadata": {
      "needs_background": "light"
     },
     "output_type": "display_data"
    }
   ],
   "source": [
    "#X[:,feature1] ,X[:,feature2]\n",
    "plt.scatter(X[:,0],X[:,1])\n",
    "#five Cluster \n",
    "#we have to find labels for them for eg colour mapping "
   ]
  },
  {
   "cell_type": "code",
   "execution_count": 65,
   "metadata": {},
   "outputs": [],
   "source": [
    "#first we make from scratch then we do by sklearn"
   ]
  },
  {
   "cell_type": "code",
   "execution_count": 66,
   "metadata": {},
   "outputs": [],
   "source": [
    "k=5"
   ]
  },
  {
   "cell_type": "code",
   "execution_count": 67,
   "metadata": {},
   "outputs": [],
   "source": [
    "color=[\"red\",\"maroon\",\"blue\",\"yellow\",\"orange\"]"
   ]
  },
  {
   "cell_type": "code",
   "execution_count": 68,
   "metadata": {},
   "outputs": [],
   "source": [
    "#intialize clusters- centeroid by finding mean of data(centers) randomly\n",
    "for i in range(k):\n",
    "    center =np.random.randint(-8,10,size=(X.shape[1]))"
   ]
  },
  {
   "cell_type": "code",
   "execution_count": 69,
   "metadata": {},
   "outputs": [
    {
     "data": {
      "text/plain": [
       "array([-6, -1])"
      ]
     },
     "execution_count": 69,
     "metadata": {},
     "output_type": "execute_result"
    }
   ],
   "source": [
    "#np.random.randint(-8,10,size=(X.shape[1],))\n",
    "#or this can be written as\n",
    "np.random.randint(-8,10,size=(2,))"
   ]
  },
  {
   "cell_type": "code",
   "execution_count": 70,
   "metadata": {},
   "outputs": [
    {
     "data": {
      "text/plain": [
       "(2,)"
      ]
     },
     "execution_count": 70,
     "metadata": {},
     "output_type": "execute_result"
    }
   ],
   "source": [
    "(X.shape[1],)"
   ]
  },
  {
   "cell_type": "code",
   "execution_count": 71,
   "metadata": {},
   "outputs": [],
   "source": [
    "clusters = {}"
   ]
  },
  {
   "cell_type": "markdown",
   "metadata": {},
   "source": [
    "# step 1\n"
   ]
  },
  {
   "cell_type": "code",
   "execution_count": 203,
   "metadata": {},
   "outputs": [],
   "source": [
    "# Initialize clusters\n",
    "\n",
    "for i in range(k):\n",
    "    center = np.random.randint(-8, 10, size= (X.shape[1],), )\n",
    "    points = []\n",
    "    \n",
    "    cluster = {\n",
    "        'center' : center,\n",
    "        'points' : points,\n",
    "        'color' : color[i]\n",
    "    }\n",
    "    \n",
    "    clusters[i] = cluster"
   ]
  },
  {
   "cell_type": "code",
   "execution_count": 204,
   "metadata": {},
   "outputs": [
    {
     "data": {
      "text/plain": [
       "{0: {'center': array([ 5, -5]), 'points': [], 'color': 'red'},\n",
       " 1: {'center': array([-3,  8]), 'points': [], 'color': 'maroon'},\n",
       " 2: {'center': array([-1,  9]), 'points': [], 'color': 'blue'},\n",
       " 3: {'center': array([-5, -8]), 'points': [], 'color': 'yellow'},\n",
       " 4: {'center': array([-6, -4]), 'points': [], 'color': 'orange'}}"
      ]
     },
     "execution_count": 204,
     "metadata": {},
     "output_type": "execute_result"
    }
   ],
   "source": [
    "clusters\n",
    "#its a dictonary of all the clusters containing centers and color \n",
    "#now points is for the list of all points lying in its region "
   ]
  },
  {
   "cell_type": "code",
   "execution_count": 205,
   "metadata": {},
   "outputs": [
    {
     "data": {
      "image/png": "[encoded data removed]",
      "text/plain": [
       "<Figure size 432x288 with 1 Axes>"
      ]
     },
     "metadata": {
      "needs_background": "light"
     },
     "output_type": "display_data"
    }
   ],
   "source": [
    "\n",
    "for i in range(k):#for all the clusters\n",
    "    center = clusters[i]['center'] #its cluster's center\n",
    "    plt.scatter(center[0], center[1], c=clusters[i]['color'], s=300, marker=\"o\")\n",
    "    #here we also taking color from the repective cluster's color\n",
    "    \n",
    "plt.scatter(X[:, 0], X[:, 1])\n",
    "    \n",
    "plt.show()"
   ]
  },
  {
   "cell_type": "code",
   "execution_count": 206,
   "metadata": {},
   "outputs": [
    {
     "data": {
      "image/png": "[encoded data removed]",
      "text/plain": [
       "<Figure size 432x288 with 1 Axes>"
      ]
     },
     "metadata": {
      "needs_background": "light"
     },
     "output_type": "display_data"
    }
   ],
   "source": [
    "plt.scatter(X[:, 0], X[:, 1])\n",
    "\n",
    "for i in range(k):#for all the clusters\n",
    "    center = clusters[i]['center'] #its cluster's center\n",
    "    plt.scatter(center[0], center[1], c=clusters[i]['color'], s=300, marker=\"o\")\n",
    "    #here we also taking color from the repective cluster's color\n",
    "plt.show()"
   ]
  },
  {
   "cell_type": "markdown",
   "metadata": {},
   "source": [
    "# Step2- Assign All points to nearest Cluster "
   ]
  },
  {
   "cell_type": "code",
   "execution_count": 207,
   "metadata": {},
   "outputs": [],
   "source": [
    "#it will iterate over all the points\n",
    "#find the distance from all 5  =k and include which is nearest or less distance "
   ]
  },
  {
   "cell_type": "code",
   "execution_count": 208,
   "metadata": {},
   "outputs": [],
   "source": [
    "#Euclidean Distance b/w cluster pts and cluster center\n",
    "def distance(v1, v2):\n",
    "    return np.sum((v2-v1)**2)**0.5"
   ]
  },
  {
   "cell_type": "code",
   "execution_count": 209,
   "metadata": {},
   "outputs": [],
   "source": [
    "def assignPointsToCluster(clusters, X):\n",
    "    \n",
    "    for ix in range(X.shape[0]):#iterate for all the examples\n",
    "        distance_of_i = [] #we can make alist of five dist from cluster center\n",
    "        \n",
    "        for kx in range(k):\n",
    "            d = distance(X[ix], clusters[kx]['center']) #we have find distance b/w \n",
    "            #distance of the point with all the five (k) cluster crnters\n",
    "            distance_of_i.append(d)\n",
    "            \n",
    "        cluster_to_choose = np.argmin(distance_of_i)\n",
    "        #here we want min dist cluster center\n",
    "        clusters[cluster_to_choose]['points'].append(X[ix])\n",
    "        #here we are appending the cluster pts in pts list that are mini dist with center "
   ]
  },
  {
   "cell_type": "code",
   "execution_count": 210,
   "metadata": {},
   "outputs": [
    {
     "data": {
      "text/plain": [
       "array([ 5, -5])"
      ]
     },
     "execution_count": 210,
     "metadata": {},
     "output_type": "execute_result"
    }
   ],
   "source": [
    "clusters[0][\"center\"] "
   ]
  },
  {
   "cell_type": "code",
   "execution_count": 211,
   "metadata": {},
   "outputs": [],
   "source": [
    "assignPointsToCluster(clusters, X)"
   ]
  },
  {
   "cell_type": "code",
   "execution_count": 212,
   "metadata": {},
   "outputs": [
    {
     "data": {
      "text/plain": [
       "{'center': array([-5, -8]),\n",
       " 'points': [array([-0.49239887, -5.28550826]),\n",
       "  array([-1.27010839, -6.55718306]),\n",
       "  array([-7.72699176, -9.47166311]),\n",
       "  array([-6.38596104, -8.8718962 ]),\n",
       "  array([-7.63463253, -7.74760395]),\n",
       "  array([-6.7759   , -8.6895189]),\n",
       "  array([-5.9563883 , -7.60981531]),\n",
       "  array([-6.95929491, -8.16343   ]),\n",
       "  array([-2.84586097, -5.39452266]),\n",
       "  array([-6.77814034, -9.24754289]),\n",
       "  array([-6.48561512, -7.28690505]),\n",
       "  array([-1.03572462, -5.17649172]),\n",
       "  array([-6.56904056, -9.3233823 ]),\n",
       "  array([-6.14828706, -7.45754949]),\n",
       "  array([-6.73454483, -8.70306237]),\n",
       "  array([-6.46091116, -8.35299848]),\n",
       "  array([-0.73447976, -5.85782982]),\n",
       "  array([-1.16205749, -6.41501315]),\n",
       "  array([-0.58317818, -6.61019033]),\n",
       "  array([-5.41918144, -8.54198453]),\n",
       "  array([-6.0467759 , -7.97913426]),\n",
       "  array([-7.16912584, -8.29870613]),\n",
       "  array([-6.74668755, -6.31755113]),\n",
       "  array([-7.14778583, -7.57760673]),\n",
       "  array([-6.00246332, -8.57775249]),\n",
       "  array([-5.87763123, -8.94149366]),\n",
       "  array([-8.82853768, -7.97641388]),\n",
       "  array([-0.0537682 , -7.06160956]),\n",
       "  array([-7.49659478, -9.61341939]),\n",
       "  array([-5.09193123, -8.63147597]),\n",
       "  array([ -6.22564947, -10.1277976 ]),\n",
       "  array([-6.39355583, -7.39968903]),\n",
       "  array([-5.57261376, -8.31313895]),\n",
       "  array([-1.37888512, -5.00393024]),\n",
       "  array([-7.68048999, -9.25834575]),\n",
       "  array([ -6.85902209, -10.15009031]),\n",
       "  array([-7.17001855, -7.3955668 ]),\n",
       "  array([-8.12281002, -7.75605807]),\n",
       "  array([-5.57489156, -7.44834798]),\n",
       "  array([-1.44561296, -5.40935878]),\n",
       "  array([-6.94961102, -6.79250631]),\n",
       "  array([-0.46567567, -4.96779854]),\n",
       "  array([-6.14809129, -8.57252583]),\n",
       "  array([-6.92587566, -7.84916593]),\n",
       "  array([ -7.82545251, -10.24117891]),\n",
       "  array([-7.66216642, -7.20536479]),\n",
       "  array([-8.00843385, -9.60644639]),\n",
       "  array([-6.51658818, -8.34000648]),\n",
       "  array([-6.19816924, -8.548536  ]),\n",
       "  array([-6.16709159, -8.54263934]),\n",
       "  array([-6.05239702, -7.58375768]),\n",
       "  array([-0.35222325, -6.16983282]),\n",
       "  array([-6.35725391, -8.0350238 ]),\n",
       "  array([-7.12531326, -8.59224754]),\n",
       "  array([-6.34506545, -8.10694824]),\n",
       "  array([-5.84631352, -9.90183638]),\n",
       "  array([-6.35099725, -7.70718902]),\n",
       "  array([-6.0299336 , -6.65786163]),\n",
       "  array([-7.14920323, -7.92344149]),\n",
       "  array([-0.86165896, -4.91087786]),\n",
       "  array([-6.84225004, -8.16146541]),\n",
       "  array([-6.81461098, -8.2413715 ]),\n",
       "  array([-6.96112852, -8.77356805]),\n",
       "  array([-6.94548297, -8.79208561]),\n",
       "  array([-0.60270909, -6.46507243]),\n",
       "  array([-0.24699465, -6.37948947]),\n",
       "  array([-0.49676238, -5.68308679]),\n",
       "  array([-5.70685088, -9.12867895]),\n",
       "  array([-7.12005971, -8.16551011]),\n",
       "  array([-7.93017468, -7.73785521]),\n",
       "  array([-6.75720323, -7.05769617]),\n",
       "  array([-7.3592725 , -7.43946247]),\n",
       "  array([-6.69832844, -9.45404597]),\n",
       "  array([-0.71298216, -6.1630844 ]),\n",
       "  array([-8.30186067, -8.33676722]),\n",
       "  array([-7.03190277, -8.36201746]),\n",
       "  array([-1.15361396, -7.36142526]),\n",
       "  array([-4.94671678, -8.5844437 ]),\n",
       "  array([-0.85736977, -6.33253831]),\n",
       "  array([-7.00800113, -7.59075309]),\n",
       "  array([-6.14018562, -9.02268286]),\n",
       "  array([-0.52236722, -6.25568753]),\n",
       "  array([-7.18733496, -9.46813709]),\n",
       "  array([-5.55365462, -8.25446864]),\n",
       "  array([-5.16376493, -8.77346014]),\n",
       "  array([-0.47863889, -5.01637115]),\n",
       "  array([-6.64364169, -9.35754594]),\n",
       "  array([-8.05835557, -8.14822084]),\n",
       "  array([-6.99019901, -9.20052981]),\n",
       "  array([-6.21082357, -7.79666876]),\n",
       "  array([-6.50835001, -8.01792578]),\n",
       "  array([-7.38867029, -7.86192288]),\n",
       "  array([-7.67628176, -6.85640537]),\n",
       "  array([-7.58677252, -7.36903317]),\n",
       "  array([-5.10453104, -8.3755373 ]),\n",
       "  array([ -8.13557949, -10.15519862]),\n",
       "  array([-6.46288046, -7.63252694]),\n",
       "  array([-0.45407117, -5.55491674]),\n",
       "  array([-1.46097822, -6.76756395]),\n",
       "  array([-6.90341892, -9.37973559]),\n",
       "  array([-6.69075021, -9.17559684]),\n",
       "  array([-5.43399425, -7.54979646]),\n",
       "  array([-1.61824057, -5.9727978 ]),\n",
       "  array([-0.51846801, -5.59704863]),\n",
       "  array([-6.93686295, -9.69461736]),\n",
       "  array([-7.77370935, -8.99054357]),\n",
       "  array([-7.44619397, -8.85850527]),\n",
       "  array([-7.32269416, -7.37117787]),\n",
       "  array([-9.43284458, -9.05458202]),\n",
       "  array([-6.27639561, -8.27017125]),\n",
       "  array([-7.65157934, -7.55315852]),\n",
       "  array([-7.08376716, -8.16543645]),\n",
       "  array([-0.45816316, -6.25948292]),\n",
       "  array([-7.89195168, -7.74103597]),\n",
       "  array([-0.24638469, -6.68327159]),\n",
       "  array([-1.02249224, -6.18640856]),\n",
       "  array([-5.97049778, -8.08363931]),\n",
       "  array([-1.20871412, -5.6531998 ]),\n",
       "  array([-9.05199194, -8.19832326]),\n",
       "  array([-0.43912895, -5.75154236]),\n",
       "  array([-0.92131116, -6.08096043]),\n",
       "  array([-0.79346409, -5.02327835]),\n",
       "  array([-4.8973964 , -8.08378146]),\n",
       "  array([-5.64761528, -7.7821575 ]),\n",
       "  array([-7.94537243, -6.72818379]),\n",
       "  array([-6.87144999, -6.97832388]),\n",
       "  array([-5.47277461, -7.92232734]),\n",
       "  array([-6.30551329, -8.07648813]),\n",
       "  array([-6.88074941, -9.23659166]),\n",
       "  array([-8.15417848, -7.59905465])],\n",
       " 'color': 'yellow'}"
      ]
     },
     "execution_count": 212,
     "metadata": {},
     "output_type": "execute_result"
    }
   ],
   "source": [
    "clusters[3]\n",
    "#cluster center associated with the nearest point !! "
   ]
  },
  {
   "cell_type": "code",
   "execution_count": 213,
   "metadata": {},
   "outputs": [],
   "source": [
    "# #plotting clusters\n",
    "# for kx in range(k):\n",
    "#         cluster_ke_points = clusters[kx]['points']\n",
    "#         cluster_ka_color = clusters[kx]['color']\n",
    "#         cluster_ka_center = clusters[kx]['center']\n",
    "        \n",
    "#         cluster_ke_points = np.array(cluster_ke_points)\n",
    "#         #bcz cluster pts are array of list but we want array so \n",
    "#         print(cluster_ke_points.shape)\n",
    "#         if len(cluster_ke_points)>0:\n",
    "#             #if no point is associated with cluster center\n",
    "#             plt.scatter(cluster_ke_points[:, 0], cluster_ke_points[:, 1], c=cluster_ka_color)\n",
    "        \n",
    "#         plt.scatter(cluster_ka_center[0], cluster_ka_center[1], c='black', s=300, marker=\"*\")"
   ]
  },
  {
   "cell_type": "code",
   "execution_count": 214,
   "metadata": {},
   "outputs": [],
   "source": [
    "def plotclusters(clusters):\n",
    "    for kx in range(k):\n",
    "        cluster_ke_points = clusters[kx]['points']\n",
    "        cluster_ka_color = clusters[kx]['color']\n",
    "        cluster_ka_center = clusters[kx]['center']\n",
    "        \n",
    "        cluster_ke_points = np.array(cluster_ke_points)\n",
    "        print(cluster_ke_points.shape)\n",
    "        if len(cluster_ke_points)>0:\n",
    "            plt.scatter(cluster_ke_points[:, 0], cluster_ke_points[:, 1], c=cluster_ka_color)\n",
    "        \n",
    "        plt.scatter(cluster_ka_center[0], cluster_ka_center[1], c='black', s=300, marker=\"*\")"
   ]
  },
  {
   "cell_type": "markdown",
   "metadata": {},
   "source": [
    "# Step - 3 Update centers to mean of all points"
   ]
  },
  {
   "cell_type": "code",
   "execution_count": 215,
   "metadata": {},
   "outputs": [],
   "source": [
    "def updateCluster(clusters):\n",
    "    \n",
    "    for kx in range(k):\n",
    "        cluster_ke_points = clusters[kx]['points']\n",
    "        \n",
    "        cluster_ke_points = np.array(cluster_ke_points)\n",
    "        \n",
    "        if len(cluster_ke_points)>0:\n",
    "            new_center = np.mean(cluster_ke_points, axis=0) #axis is along rows so will \n",
    "            #find mean of all the feature seprately it will give 2,0 when we have cluster pts 50,2\n",
    "            clusters[kx]['center'] = new_center\n",
    "            clusters[kx]['points'] = [] # clear the points in a cluster list (emptying pts)\n",
    "            #as we have to do step 2 after step 3 again till not converge "
   ]
  },
  {
   "cell_type": "code",
   "execution_count": 216,
   "metadata": {},
   "outputs": [
    {
     "data": {
      "text/plain": [
       "array([[ -7.72699176,  -9.47166311],\n",
       "       [ -6.38596104,  -8.8718962 ],\n",
       "       [ -7.63463253,  -7.74760395],\n",
       "       [ -6.7759    ,  -8.6895189 ],\n",
       "       [ -5.9563883 ,  -7.60981531],\n",
       "       [ -6.95929491,  -8.16343   ],\n",
       "       [ -6.77814034,  -9.24754289],\n",
       "       [ -6.48561512,  -7.28690505],\n",
       "       [ -6.56904056,  -9.3233823 ],\n",
       "       [ -6.14828706,  -7.45754949],\n",
       "       [ -6.73454483,  -8.70306237],\n",
       "       [ -6.46091116,  -8.35299848],\n",
       "       [ -5.41918144,  -8.54198453],\n",
       "       [ -6.0467759 ,  -7.97913426],\n",
       "       [ -7.16912584,  -8.29870613],\n",
       "       [ -6.74668755,  -6.31755113],\n",
       "       [ -7.14778583,  -7.57760673],\n",
       "       [ -6.00246332,  -8.57775249],\n",
       "       [ -5.87763123,  -8.94149366],\n",
       "       [ -8.82853768,  -7.97641388],\n",
       "       [ -7.49659478,  -9.61341939],\n",
       "       [ -6.22564947, -10.1277976 ],\n",
       "       [ -6.39355583,  -7.39968903],\n",
       "       [ -5.57261376,  -8.31313895],\n",
       "       [ -7.68048999,  -9.25834575],\n",
       "       [ -6.85902209, -10.15009031],\n",
       "       [ -7.17001855,  -7.3955668 ],\n",
       "       [ -8.12281002,  -7.75605807],\n",
       "       [ -5.57489156,  -7.44834798],\n",
       "       [ -6.31621048,  -6.11461228],\n",
       "       [ -6.94961102,  -6.79250631],\n",
       "       [ -6.14809129,  -8.57252583],\n",
       "       [ -6.92587566,  -7.84916593],\n",
       "       [ -7.82545251, -10.24117891],\n",
       "       [ -7.66216642,  -7.20536479],\n",
       "       [ -8.00843385,  -9.60644639],\n",
       "       [ -6.51658818,  -8.34000648],\n",
       "       [ -6.19816924,  -8.548536  ],\n",
       "       [ -6.16709159,  -8.54263934],\n",
       "       [ -6.05239702,  -7.58375768],\n",
       "       [ -6.35725391,  -8.0350238 ],\n",
       "       [ -7.12531326,  -8.59224754],\n",
       "       [ -6.34506545,  -8.10694824],\n",
       "       [ -5.84631352,  -9.90183638],\n",
       "       [ -6.35099725,  -7.70718902],\n",
       "       [ -6.0299336 ,  -6.65786163],\n",
       "       [ -7.14920323,  -7.92344149],\n",
       "       [ -6.84225004,  -8.16146541],\n",
       "       [ -6.81461098,  -8.2413715 ],\n",
       "       [ -6.96112852,  -8.77356805],\n",
       "       [ -6.94548297,  -8.79208561],\n",
       "       [ -5.70685088,  -9.12867895],\n",
       "       [ -7.12005971,  -8.16551011],\n",
       "       [ -7.93017468,  -7.73785521],\n",
       "       [ -6.75720323,  -7.05769617],\n",
       "       [ -7.3592725 ,  -7.43946247],\n",
       "       [ -6.69832844,  -9.45404597],\n",
       "       [ -8.30186067,  -8.33676722],\n",
       "       [ -7.03190277,  -8.36201746],\n",
       "       [ -7.00800113,  -7.59075309],\n",
       "       [ -6.14018562,  -9.02268286],\n",
       "       [ -7.18733496,  -9.46813709],\n",
       "       [ -5.55365462,  -8.25446864],\n",
       "       [ -6.64364169,  -9.35754594],\n",
       "       [ -8.05835557,  -8.14822084],\n",
       "       [ -6.99019901,  -9.20052981],\n",
       "       [ -6.21082357,  -7.79666876],\n",
       "       [ -6.50835001,  -8.01792578],\n",
       "       [ -7.38867029,  -7.86192288],\n",
       "       [ -7.67628176,  -6.85640537],\n",
       "       [ -7.58677252,  -7.36903317],\n",
       "       [ -8.13557949, -10.15519862],\n",
       "       [ -6.46288046,  -7.63252694],\n",
       "       [ -6.90341892,  -9.37973559],\n",
       "       [ -6.69075021,  -9.17559684],\n",
       "       [ -5.43399425,  -7.54979646],\n",
       "       [ -6.93686295,  -9.69461736],\n",
       "       [ -7.77370935,  -8.99054357],\n",
       "       [ -7.44619397,  -8.85850527],\n",
       "       [ -7.32269416,  -7.37117787],\n",
       "       [ -9.43284458,  -9.05458202],\n",
       "       [ -6.27639561,  -8.27017125],\n",
       "       [ -7.65157934,  -7.55315852],\n",
       "       [ -7.08376716,  -8.16543645],\n",
       "       [ -7.89195168,  -7.74103597],\n",
       "       [ -5.97049778,  -8.08363931],\n",
       "       [ -9.05199194,  -8.19832326],\n",
       "       [ -5.64761528,  -7.7821575 ],\n",
       "       [ -7.94537243,  -6.72818379],\n",
       "       [ -6.87144999,  -6.97832388],\n",
       "       [ -7.27551134,  -6.12210518],\n",
       "       [ -5.47277461,  -7.92232734],\n",
       "       [ -6.30551329,  -8.07648813],\n",
       "       [ -6.88074941,  -9.23659166],\n",
       "       [ -8.15417848,  -7.59905465]])"
      ]
     },
     "execution_count": 216,
     "metadata": {},
     "output_type": "execute_result"
    }
   ],
   "source": [
    "\n",
    "cluster_ke_points"
   ]
  },
  {
   "cell_type": "code",
   "execution_count": 221,
   "metadata": {},
   "outputs": [
    {
     "name": "stdout",
     "output_type": "stream",
     "text": [
      "(100, 2)\n",
      "(100, 2)\n",
      "(100, 2)\n",
      "(100, 2)\n",
      "(100, 2)\n"
     ]
    },
    {
     "data": {
      "image/png": "[encoded data removed]",
      "text/plain": [
       "<Figure size 432x288 with 1 Axes>"
      ]
     },
     "metadata": {
      "needs_background": "light"
     },
     "output_type": "display_data"
    }
   ],
   "source": [
    "assignPointsToCluster(clusters, X)\n",
    "\n",
    "plotclusters(clusters)\n",
    "\n",
    "updateCluster(clusters)\n",
    "#predictiion "
   ]
  },
  {
   "cell_type": "markdown",
   "metadata": {},
   "source": [
    "# Actual Outputs"
   ]
  },
  {
   "cell_type": "code",
   "execution_count": 222,
   "metadata": {},
   "outputs": [],
   "source": [
    "#Actual \n",
    "#for seeing actual output u can check with this \n",
    "X,y =make_blobs(n_samples=500,n_features=2,centers=5,random_state=10)"
   ]
  },
  {
   "cell_type": "code",
   "execution_count": 223,
   "metadata": {},
   "outputs": [
    {
     "data": {
      "image/png": "[encoded data removed]",
      "text/plain": [
       "<Figure size 432x288 with 1 Axes>"
      ]
     },
     "metadata": {
      "needs_background": "light"
     },
     "output_type": "display_data"
    }
   ],
   "source": [
    "#y is label here \n",
    "plt.scatter(X[:, 0], X[:, 1],c=y)\n",
    "plt.show()"
   ]
  },
  {
   "cell_type": "markdown",
   "metadata": {},
   "source": [
    "# from Sklearn - KMeans++"
   ]
  },
  {
   "cell_type": "code",
   "execution_count": 224,
   "metadata": {},
   "outputs": [],
   "source": [
    "from sklearn.cluster import KMeans"
   ]
  },
  {
   "cell_type": "code",
   "execution_count": 225,
   "metadata": {},
   "outputs": [],
   "source": [
    "km = KMeans(n_clusters=5,)"
   ]
  },
  {
   "cell_type": "code",
   "execution_count": null,
   "metadata": {},
   "outputs": [],
   "source": []
  }
 ],
 "metadata": {
  "kernelspec": {
   "display_name": "Python 3",
   "language": "python",
   "name": "python3"
  },
  "language_info": {
   "codemirror_mode": {
    "name": "ipython",
    "version": 3
   },
   "file_extension": ".py",
   "mimetype": "text/x-python",
   "name": "python",
   "nbconvert_exporter": "python",
   "pygments_lexer": "ipython3",
   "version": "3.7.6"
  }
 },
 "nbformat": 4,
 "nbformat_minor": 4
}
