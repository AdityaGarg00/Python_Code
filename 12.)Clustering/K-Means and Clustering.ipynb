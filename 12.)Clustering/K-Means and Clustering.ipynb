{
 "cells": [
  {
   "cell_type": "code",
   "execution_count": null,
   "metadata": {},
   "outputs": [],
   "source": [
    "import numpy as np\n",
    "import matplotlib.pyplot as plt\n",
    "from sklearn.datasets import make_blobs"
   ]
  },
  {
   "cell_type": "code",
   "execution_count": null,
   "metadata": {},
   "outputs": [],
   "source": [
    "#Generate isotropic Gaussian blobs for clustering.\n",
    "#it basically create cluster we will not use y \n",
    "#or _in place of y as unsupervised learning\n",
    "#X,y =make_blobs(n_samples=500,n_features=2,centers=5,random_state=6)"
   ]
  },
  {
   "cell_type": "code",
   "execution_count": null,
   "metadata": {},
   "outputs": [],
   "source": [
    "X[:10]\n"
   ]
  },
  {
   "cell_type": "code",
   "execution_count": null,
   "metadata": {},
   "outputs": [],
   "source": [
    "X.shape"
   ]
  },
  {
   "cell_type": "code",
   "execution_count": null,
   "metadata": {},
   "outputs": [],
   "source": [
    "#y[:10]"
   ]
  },
  {
   "cell_type": "code",
   "execution_count": null,
   "metadata": {},
   "outputs": [],
   "source": [
    "#y.shape"
   ]
  },
  {
   "cell_type": "code",
   "execution_count": null,
   "metadata": {},
   "outputs": [],
   "source": [
    "X ,_=make_blobs(n_samples=500,n_features=2,centers=5,random_state=10)\n",
    "#centers is for how many groups we want"
   ]
  },
  {
   "cell_type": "code",
   "execution_count": null,
   "metadata": {},
   "outputs": [],
   "source": [
    "X[:10,0]"
   ]
  },
  {
   "cell_type": "code",
   "execution_count": null,
   "metadata": {},
   "outputs": [],
   "source": [
    "#X[:,feature1] ,X[:,feature2]\n",
    "plt.scatter(X[:,0],X[:,1])\n",
    "#five Cluster \n",
    "#we have to find labels for them for eg colour mapping "
   ]
  },
  {
   "cell_type": "code",
   "execution_count": null,
   "metadata": {},
   "outputs": [],
   "source": [
    "#first we make from scratch then we do by sklearn"
   ]
  },
  {
   "cell_type": "code",
   "execution_count": null,
   "metadata": {},
   "outputs": [],
   "source": [
    "k=5"
   ]
  },
  {
   "cell_type": "code",
   "execution_count": null,
   "metadata": {},
   "outputs": [],
   "source": [
    "color=[\"red\",\"maroon\",\"blue\",\"yellow\",\"orange\"]"
   ]
  },
  {
   "cell_type": "code",
   "execution_count": null,
   "metadata": {},
   "outputs": [],
   "source": [
    "#intialize clusters- centeroid by finding mean of data(centers) randomly\n",
    "for i in range(k):\n",
    "    center =np.random.randint(-8,10,size=(X.shape[1]))"
   ]
  },
  {
   "cell_type": "code",
   "execution_count": null,
   "metadata": {},
   "outputs": [],
   "source": [
    "#np.random.randint(-8,10,size=(X.shape[1],))\n",
    "#or this can be written as\n",
    "np.random.randint(-8,10,size=(2,))"
   ]
  },
  {
   "cell_type": "code",
   "execution_count": null,
   "metadata": {},
   "outputs": [],
   "source": [
    "(X.shape[1],)"
   ]
  },
  {
   "cell_type": "code",
   "execution_count": null,
   "metadata": {},
   "outputs": [],
   "source": [
    "clusters = {}"
   ]
  },
  {
   "cell_type": "markdown",
   "metadata": {},
   "source": [
    "# step 1\n"
   ]
  },
  {
   "cell_type": "code",
   "execution_count": null,
   "metadata": {},
   "outputs": [],
   "source": [
    "# Initialize clusters\n",
    "\n",
    "for i in range(k):\n",
    "    center = np.random.randint(-8, 10, size= (X.shape[1],), )\n",
    "    points = []\n",
    "    \n",
    "    cluster = {\n",
    "        'center' : center,\n",
    "        'points' : points,\n",
    "        'color' : color[i]\n",
    "    }\n",
    "    \n",
    "    clusters[i] = cluster"
   ]
  },
  {
   "cell_type": "code",
   "execution_count": null,
   "metadata": {},
   "outputs": [],
   "source": [
    "clusters\n",
    "#its a dictonary of all the clusters containing centers and color \n",
    "#now points is for the list of all points nearest to cluster centers"
   ]
  },
  {
   "cell_type": "code",
   "execution_count": null,
   "metadata": {},
   "outputs": [],
   "source": [
    "\n",
    "for i in range(k):#for all the clusters\n",
    "    center = clusters[i]['center'] #its cluster's center\n",
    "    plt.scatter(center[0], center[1], c=clusters[i]['color'], s=300, marker=\"o\")\n",
    "    #here we also taking color from the repective cluster's color\n",
    "    \n",
    "plt.scatter(X[:, 0], X[:, 1])\n",
    "    \n",
    "plt.show()"
   ]
  },
  {
   "cell_type": "code",
   "execution_count": null,
   "metadata": {},
   "outputs": [],
   "source": [
    "plt.scatter(X[:, 0], X[:, 1])\n",
    "\n",
    "for i in range(k):#for all the clusters\n",
    "    center = clusters[i]['center'] #its cluster's center\n",
    "    plt.scatter(center[0], center[1], c=clusters[i]['color'], s=300, marker=\"o\")\n",
    "    #here we also taking color from the repective cluster's color\n",
    "plt.show()"
   ]
  },
  {
   "cell_type": "markdown",
   "metadata": {},
   "source": [
    "# Step2- Assign All points to nearest Cluster "
   ]
  },
  {
   "cell_type": "code",
   "execution_count": 83,
   "metadata": {},
   "outputs": [],
   "source": [
    "#it will iterate over all the points\n",
    "#find the distance from all 5  =k and include which is nearest or less distance "
   ]
  },
  {
   "cell_type": "code",
   "execution_count": 84,
   "metadata": {},
   "outputs": [],
   "source": [
    "#Euclidean Distance b/w cluster pts and cluster center\n",
    "def distance(v1, v2):\n",
    "    return np.sum((v2-v1)**2)**0.5"
   ]
  },
  {
   "cell_type": "code",
   "execution_count": 85,
   "metadata": {},
   "outputs": [],
   "source": [
    "def assignPointsToCluster(clusters, X):\n",
    "    \n",
    "    for ix in range(X.shape[0]):#iterate for all the examples\n",
    "        distance_of_i = [] #we can make alist of five dist from cluster center\n",
    "        \n",
    "        for kx in range(k):\n",
    "            d = distance(X[ix], clusters[kx]['center']) #we have find distance b/w \n",
    "            #distance of the point with all the five (k) cluster crnters\n",
    "            distance_of_i.append(d)\n",
    "            \n",
    "        cluster_to_choose = np.argmin(distance_of_i)\n",
    "        #here we want min dist cluster center\n",
    "        clusters[cluster_to_choose]['points'].append(X[ix])\n",
    "        #here we are appending the cluster pts in pts list that are mini dist with center "
   ]
  },
  {
   "cell_type": "code",
   "execution_count": null,
   "metadata": {},
   "outputs": [],
   "source": [
    "clusters[0][\"center\"] "
   ]
  },
  {
   "cell_type": "code",
   "execution_count": 87,
   "metadata": {},
   "outputs": [],
   "source": [
    "assignPointsToCluster(clusters, X)"
   ]
  },
  {
   "cell_type": "code",
   "execution_count": 88,
   "metadata": {},
   "outputs": [
    {
     "data": {
      "text/plain": [
       "{'center': array([1, 1]),\n",
       " 'points': [array([1.12565931, 6.32088416]),\n",
       "  array([2.38696269, 4.11331935]),\n",
       "  array([1.78177778, 4.1933899 ]),\n",
       "  array([0.98099677, 5.59252857]),\n",
       "  array([ 0.48548549, -3.11994247]),\n",
       "  array([-0.17620056, -4.44563045]),\n",
       "  array([1.41137496, 4.75681739]),\n",
       "  array([1.95034397, 5.06021721]),\n",
       "  array([2.43788247, 3.71524985]),\n",
       "  array([1.40314511, 5.29946758]),\n",
       "  array([ 1.49799137, -6.15350546]),\n",
       "  array([ 1.21828954, -4.77134132]),\n",
       "  array([ 1.24518935, -5.83289913]),\n",
       "  array([ 0.31649182, -4.56170259]),\n",
       "  array([1.64235649, 3.61838009]),\n",
       "  array([ 1.36795963, -5.37940031]),\n",
       "  array([ 2.21200675, -5.75055421]),\n",
       "  array([1.73225492, 4.92248315]),\n",
       "  array([ 0.42220747, -5.20999783]),\n",
       "  array([ 0.61866966, -5.52849563]),\n",
       "  array([ 0.02647603, -4.03841208]),\n",
       "  array([1.66639614, 4.71854403]),\n",
       "  array([2.09804703, 4.61590652]),\n",
       "  array([ 0.16394086, -4.960832  ]),\n",
       "  array([ 0.22775098, -4.19114434]),\n",
       "  array([ 1.61490138, -4.78063789]),\n",
       "  array([1.03802056, 5.41101493]),\n",
       "  array([ 0.50554163, -4.95322239]),\n",
       "  array([2.04934569, 4.61289145]),\n",
       "  array([ 2.64182533, -5.43962159]),\n",
       "  array([1.83745619, 5.18652838]),\n",
       "  array([1.46931121, 5.18591679]),\n",
       "  array([ 0.12715523, -4.14527795]),\n",
       "  array([1.03737808, 5.22087574]),\n",
       "  array([2.50888941, 3.82726539]),\n",
       "  array([ 1.17304317, -4.53350756]),\n",
       "  array([ 2.04518892, -6.09425362]),\n",
       "  array([ 0.89488788, -5.26882232]),\n",
       "  array([ 1.40939397, -4.12192046]),\n",
       "  array([1.81544218, 4.61179956]),\n",
       "  array([1.15788902, 4.43735912]),\n",
       "  array([1.68923657, 5.38861037]),\n",
       "  array([-0.41533657, -3.94385831]),\n",
       "  array([0.65524605, 5.51661836]),\n",
       "  array([ 0.49468098, -4.97057807]),\n",
       "  array([1.8505971 , 3.38952589]),\n",
       "  array([ 0.53306204, -4.87661612]),\n",
       "  array([ 1.51530201, -6.19575474]),\n",
       "  array([1.23066582, 3.36722729])],\n",
       " 'color': 'yellow'}"
      ]
     },
     "execution_count": 88,
     "metadata": {},
     "output_type": "execute_result"
    }
   ],
   "source": [
    "clusters[3]\n",
    "#cluster center associated with the nearest point !! "
   ]
  },
  {
   "cell_type": "code",
   "execution_count": 89,
   "metadata": {},
   "outputs": [],
   "source": [
    "# #plotting clusters\n",
    "# for kx in range(k):\n",
    "#         cluster_ke_points = clusters[kx]['points']\n",
    "#         cluster_ka_color = clusters[kx]['color']\n",
    "#         cluster_ka_center = clusters[kx]['center']\n",
    "        \n",
    "#         cluster_ke_points = np.array(cluster_ke_points)\n",
    "#         #bcz cluster pts are array of list but we want array so \n",
    "#         print(cluster_ke_points.shape)\n",
    "#         if len(cluster_ke_points)>0:\n",
    "#             #if no point is associated with cluster center\n",
    "#             plt.scatter(cluster_ke_points[:, 0], cluster_ke_points[:, 1], c=cluster_ka_color)\n",
    "        \n",
    "#         plt.scatter(cluster_ka_center[0], cluster_ka_center[1], c='black', s=300, marker=\"*\")"
   ]
  },
  {
   "cell_type": "code",
   "execution_count": 90,
   "metadata": {},
   "outputs": [],
   "source": [
    "def plotclusters(clusters):\n",
    "    for kx in range(k):\n",
    "        cluster_ke_points = clusters[kx]['points']\n",
    "        cluster_ka_color = clusters[kx]['color']\n",
    "        cluster_ka_center = clusters[kx]['center']\n",
    "        \n",
    "        cluster_ke_points = np.array(cluster_ke_points)\n",
    "        print(cluster_ke_points.shape)\n",
    "        if len(cluster_ke_points)>0:\n",
    "            plt.scatter(cluster_ke_points[:, 0], cluster_ke_points[:, 1], c=cluster_ka_color)\n",
    "        \n",
    "        plt.scatter(cluster_ka_center[0], cluster_ka_center[1], c='black', s=300, marker=\"*\")"
   ]
  },
  {
   "cell_type": "markdown",
   "metadata": {},
   "source": [
    "# Step - 3 Update centers to mean of all points"
   ]
  },
  {
   "cell_type": "code",
   "execution_count": 91,
   "metadata": {},
   "outputs": [],
   "source": [
    "def updateCluster(clusters):\n",
    "    \n",
    "    for kx in range(k):\n",
    "        cluster_ke_points = clusters[kx]['points']\n",
    "        \n",
    "        cluster_ke_points = np.array(cluster_ke_points)\n",
    "        \n",
    "        if len(cluster_ke_points)>0:\n",
    "            new_center = np.mean(cluster_ke_points, axis=0) #axis is along rows so will \n",
    "            #find mean of all the feature seprately it will give 2,0 when we have cluster pts 50,2\n",
    "            clusters[kx]['center'] = new_center\n",
    "            clusters[kx]['points'] = [] # clear the points in a cluster list (emptying pts)\n",
    "            #as we have to do step 2 after step 3 again till not converge "
   ]
  },
  {
   "cell_type": "code",
   "execution_count": 92,
   "metadata": {},
   "outputs": [
    {
     "ename": "NameError",
     "evalue": "name 'cluster_ke_points' is not defined",
     "output_type": "error",
     "traceback": [
      "\u001b[1;31m---------------------------------------------------------------------------\u001b[0m",
      "\u001b[1;31mNameError\u001b[0m                                 Traceback (most recent call last)",
      "\u001b[1;32m<ipython-input-92-2c7b41bc0c6b>\u001b[0m in \u001b[0;36m<module>\u001b[1;34m\u001b[0m\n\u001b[1;32m----> 1\u001b[1;33m \u001b[0mcluster_ke_points\u001b[0m\u001b[1;33m\u001b[0m\u001b[1;33m\u001b[0m\u001b[0m\n\u001b[0m",
      "\u001b[1;31mNameError\u001b[0m: name 'cluster_ke_points' is not defined"
     ]
    }
   ],
   "source": [
    "\n",
    "cluster_ke_points"
   ]
  },
  {
   "cell_type": "code",
   "execution_count": 96,
   "metadata": {
    "scrolled": true
   },
   "outputs": [
    {
     "name": "stdout",
     "output_type": "stream",
     "text": [
      "(100, 2)\n",
      "(100, 2)\n",
      "(100, 2)\n",
      "(100, 2)\n",
      "(100, 2)\n"
     ]
    },
    {
     "data": {
      "image/png": "[encoded data removed]",
      "text/plain": [
       "<Figure size 432x288 with 1 Axes>"
      ]
     },
     "metadata": {
      "needs_background": "light"
     },
     "output_type": "display_data"
    }
   ],
   "source": [
    "assignPointsToCluster(clusters, X)\n",
    "\n",
    "plotclusters(clusters)\n",
    "\n",
    "updateCluster(clusters)\n",
    "#predictiion "
   ]
  },
  {
   "cell_type": "markdown",
   "metadata": {},
   "source": [
    "# Actual Outputs"
   ]
  },
  {
   "cell_type": "code",
   "execution_count": 97,
   "metadata": {},
   "outputs": [],
   "source": [
    "#Actual \n",
    "#for seeing actual output u can check with this \n",
    "X,y =make_blobs(n_samples=500,n_features=2,centers=5,random_state=10)"
   ]
  },
  {
   "cell_type": "code",
   "execution_count": 98,
   "metadata": {},
   "outputs": [
    {
     "data": {
      "image/png": "[encoded data removed]",
      "text/plain": [
       "<Figure size 432x288 with 1 Axes>"
      ]
     },
     "metadata": {
      "needs_background": "light"
     },
     "output_type": "display_data"
    }
   ],
   "source": [
    "#y is label here \n",
    "plt.scatter(X[:, 0], X[:, 1],c=y)\n",
    "plt.show()"
   ]
  },
  {
   "cell_type": "markdown",
   "metadata": {},
   "source": [
    "# from Sklearn - KMeans++"
   ]
  },
  {
   "cell_type": "code",
   "execution_count": 100,
   "metadata": {},
   "outputs": [],
   "source": [
    "from sklearn.cluster import KMeans"
   ]
  },
  {
   "cell_type": "code",
   "execution_count": 101,
   "metadata": {},
   "outputs": [
    {
     "data": {
      "text/plain": [
       "\"init : {'k-means++', 'random'} or ndarray of shape             (n_clusters, n_features), default='k-means++'\\n    Method for initialization, defaults to 'k-means++':\\n\\n    'k-means++' : selects initial cluster centers for k-mean\\n    clustering in a smart way to speed up convergence. See section\\n    Notes in k_init for more details.\\n\\n    'random': choose k observations (rows) at random from data for\\n    the initial centroids.\\n\\n    If an ndarray is passed, it should be of shape (n_clusters, n_features)\\n    and gives the initial centers.\\n\\nn_init : int, default=10\\n    Number of time the k-means algorithm will be run with different\\n    centroid seeds. The final results will be the best output of\\n    n_init consecutive runs in terms of inertia.\""
      ]
     },
     "execution_count": 101,
     "metadata": {},
     "output_type": "execute_result"
    }
   ],
   "source": [
    "km = KMeans(n_clusters=5)\n",
    "# init='k-means++' defaultly kmeans is set above we have done randomly\n",
    "\"\"\"init : {'k-means++', 'random'} or ndarray of shape             (n_clusters, n_features), default='k-means++'\n",
    "    Method for initialization, defaults to 'k-means++':\n",
    "\n",
    "    'k-means++' : selects initial cluster centers for k-mean\n",
    "    clustering in a smart way to speed up convergence. See section\n",
    "    Notes in k_init for more details.\n",
    "\n",
    "    'random': choose k observations (rows) at random from data for\n",
    "    the initial centroids.\n",
    "\n",
    "    If an ndarray is passed, it should be of shape (n_clusters, n_features)\n",
    "    and gives the initial centers.\n",
    "\n",
    "n_init : int, default=10\n",
    "    Number of time the k-means algorithm will be run with different\n",
    "    centroid seeds. The final results will be the best output of\n",
    "    n_init consecutive runs in terms of inertia.\"\"\""
   ]
  },
  {
   "cell_type": "code",
   "execution_count": 109,
   "metadata": {},
   "outputs": [
    {
     "data": {
      "text/plain": [
       "array([3, 1, 2, 3, 1, 0, 3, 2, 0, 4, 0, 0, 1, 1, 4, 1, 4, 0, 0, 3, 0, 3,\n",
       "       2, 3, 4, 3, 4, 1, 3, 3, 1, 1, 4, 1, 0, 2, 0, 2, 1, 2, 3, 3, 1, 2,\n",
       "       1, 0, 3, 0, 1, 3, 4, 3, 0, 4, 2, 2, 1, 0, 1, 1, 1, 2, 2, 2, 3, 4,\n",
       "       3, 2, 3, 4, 4, 2, 2, 2, 3, 3, 4, 2, 2, 1, 2, 1, 3, 0, 3, 2, 1, 4,\n",
       "       0, 1, 1, 2, 3, 1, 0, 2, 1, 3, 1, 4, 3, 4, 4, 4, 2, 1, 3, 2, 0, 1,\n",
       "       4, 0, 1, 1, 3, 3, 3, 0, 3, 0, 1, 0, 2, 3, 0, 3, 0, 3, 2, 2, 0, 3,\n",
       "       4, 1, 2, 2, 2, 1, 3, 4, 1, 2, 3, 3, 3, 0, 1, 2, 0, 0, 2, 4, 0, 0,\n",
       "       4, 3, 4, 1, 4, 3, 1, 1, 1, 4, 1, 1, 0, 2, 3, 3, 3, 3, 3, 2, 2, 4,\n",
       "       3, 2, 2, 1, 1, 0, 1, 1, 1, 1, 0, 2, 1, 1, 1, 3, 1, 4, 4, 2, 4, 3,\n",
       "       0, 1, 3, 4, 4, 1, 1, 1, 2, 3, 0, 2, 2, 1, 1, 0, 3, 2, 2, 4, 2, 4,\n",
       "       1, 0, 1, 2, 3, 0, 4, 4, 4, 4, 2, 4, 4, 0, 4, 4, 2, 2, 3, 3, 4, 1,\n",
       "       2, 2, 2, 1, 1, 3, 4, 4, 4, 3, 3, 1, 4, 4, 4, 0, 3, 2, 0, 0, 2, 1,\n",
       "       0, 3, 2, 3, 0, 2, 4, 1, 4, 1, 0, 4, 4, 0, 3, 0, 0, 0, 2, 2, 0, 2,\n",
       "       1, 3, 0, 4, 1, 2, 0, 0, 2, 4, 2, 4, 0, 4, 0, 2, 4, 2, 1, 1, 0, 4,\n",
       "       0, 1, 2, 1, 2, 1, 2, 2, 4, 0, 2, 2, 1, 4, 2, 0, 4, 2, 2, 4, 0, 2,\n",
       "       4, 2, 3, 3, 3, 0, 0, 3, 0, 4, 1, 0, 1, 0, 4, 0, 0, 3, 3, 1, 0, 0,\n",
       "       0, 0, 4, 2, 0, 1, 0, 1, 4, 3, 4, 4, 0, 4, 3, 3, 4, 4, 3, 4, 0, 3,\n",
       "       4, 2, 4, 0, 0, 0, 0, 0, 2, 3, 1, 1, 1, 3, 3, 0, 0, 4, 4, 2, 3, 2,\n",
       "       2, 1, 0, 1, 4, 0, 3, 3, 3, 0, 4, 1, 1, 4, 3, 0, 1, 2, 2, 0, 4, 4,\n",
       "       3, 4, 1, 3, 4, 2, 4, 4, 0, 4, 0, 4, 1, 2, 3, 3, 3, 4, 1, 3, 3, 0,\n",
       "       2, 1, 0, 3, 1, 3, 0, 0, 3, 2, 3, 0, 3, 2, 4, 3, 0, 2, 3, 3, 1, 3,\n",
       "       3, 1, 1, 1, 4, 2, 2, 1, 3, 2, 1, 2, 2, 2, 4, 0, 0, 0, 2, 4, 4, 1,\n",
       "       0, 1, 4, 4, 0, 4, 3, 0, 2, 2, 4, 4, 1, 3, 4, 2])"
      ]
     },
     "execution_count": 109,
     "metadata": {},
     "output_type": "execute_result"
    }
   ],
   "source": [
    "y #this we will not use in fit as unsupervised learning"
   ]
  },
  {
   "cell_type": "code",
   "execution_count": 110,
   "metadata": {},
   "outputs": [
    {
     "data": {
      "text/plain": [
       "KMeans(algorithm='auto', copy_x=True, init='k-means++', max_iter=300,\n",
       "       n_clusters=5, n_init=10, n_jobs=None, precompute_distances='auto',\n",
       "       random_state=None, tol=0.0001, verbose=0)"
      ]
     },
     "execution_count": 110,
     "metadata": {},
     "output_type": "execute_result"
    }
   ],
   "source": [
    "km.fit(X)\n"
   ]
  },
  {
   "cell_type": "code",
   "execution_count": 111,
   "metadata": {},
   "outputs": [
    {
     "name": "stdout",
     "output_type": "stream",
     "text": [
      "[2 3 0 2 3 1 2 0 1 4 1 1 3 3 4 3 4 1 1 2 1 2 0 2 4 2 4 3 2 2 3 3 4 3 1 0 1\n",
      " 0 3 0 2 2 3 0 3 1 2 1 3 2 4 2 1 4 0 0 3 1 3 3 3 0 0 0 2 4 2 0 2 4 4 0 0 0\n",
      " 2 2 4 0 0 3 0 3 2 1 2 0 3 4 1 3 3 0 2 3 1 0 3 2 3 4 2 4 4 4 0 3 2 0 1 3 4\n",
      " 1 3 3 2 2 2 1 2 1 3 1 0 2 1 2 1 2 0 0 1 2 4 3 0 0 0 3 2 4 3 0 2 2 2 1 3 0\n",
      " 1 1 0 4 1 1 4 2 4 3 4 2 3 3 3 4 3 3 1 0 2 2 2 2 2 0 0 4 2 0 0 3 3 1 3 3 3\n",
      " 3 1 0 3 3 3 2 3 4 4 0 4 2 1 3 2 4 4 3 3 3 0 2 1 0 0 3 3 1 2 0 0 4 0 4 3 1\n",
      " 3 0 2 1 4 4 4 4 0 4 4 1 4 4 0 0 2 2 4 3 0 0 0 3 3 2 4 4 4 2 2 3 4 4 4 1 2\n",
      " 0 1 1 0 3 1 2 0 2 1 0 4 3 4 3 1 4 4 1 2 1 1 1 0 0 1 0 3 2 1 4 3 0 1 1 0 4\n",
      " 0 4 1 4 1 0 4 0 3 3 1 4 1 3 0 3 0 3 0 0 4 1 0 0 3 4 0 1 4 0 0 4 1 0 4 0 2\n",
      " 2 2 1 1 2 1 4 3 1 3 1 4 1 1 2 2 3 1 1 1 1 4 0 1 3 1 3 4 2 4 4 1 4 2 2 4 4\n",
      " 2 4 1 2 4 0 4 1 1 1 1 1 0 2 3 3 3 2 2 1 1 4 4 0 2 0 0 3 1 3 4 1 2 2 2 1 4\n",
      " 3 3 4 2 1 3 0 0 1 4 4 2 4 3 2 4 0 4 4 1 4 1 4 3 0 2 2 2 4 3 2 2 1 0 3 1 2\n",
      " 3 2 1 1 2 0 2 1 2 0 4 2 1 0 2 2 3 2 2 3 3 3 4 0 0 3 2 0 3 0 0 0 4 1 1 1 0\n",
      " 4 4 3 1 3 4 4 1 4 2 1 0 0 4 4 3 2 4 0]\n"
     ]
    }
   ],
   "source": [
    "print(km.labels_)\n",
    "#so it associate every point with each clusters "
   ]
  },
  {
   "cell_type": "code",
   "execution_count": 104,
   "metadata": {},
   "outputs": [
    {
     "data": {
      "text/plain": [
       "array([[-6.06533341,  5.2400571 ],\n",
       "       [-0.06909909, -5.56399319],\n",
       "       [ 2.78561142,  4.93182424],\n",
       "       [ 5.56873506, -9.60861515],\n",
       "       [-6.78567723, -8.26282547]])"
      ]
     },
     "execution_count": 104,
     "metadata": {},
     "output_type": "execute_result"
    }
   ],
   "source": [
    "km.cluster_centers_\n",
    "#these are cluster centers !!"
   ]
  },
  {
   "cell_type": "code",
   "execution_count": 106,
   "metadata": {},
   "outputs": [
    {
     "data": {
      "text/plain": [
       "872.8554968701876"
      ]
     },
     "execution_count": 106,
     "metadata": {},
     "output_type": "execute_result"
    }
   ],
   "source": [
    "km.inertia_"
   ]
  },
  {
   "cell_type": "code",
   "execution_count": 107,
   "metadata": {},
   "outputs": [
    {
     "data": {
      "text/plain": [
       "<matplotlib.collections.PathCollection at 0x2358129e548>"
      ]
     },
     "execution_count": 107,
     "metadata": {},
     "output_type": "execute_result"
    },
    {
     "data": {
      "image/png": "[encoded data removed]",
      "text/plain": [
       "<Figure size 432x288 with 1 Axes>"
      ]
     },
     "metadata": {
      "needs_background": "light"
     },
     "output_type": "display_data"
    }
   ],
   "source": [
    "plt.scatter(X[:,0], X[:, 1], c= km.labels_)\n"
   ]
  },
  {
   "cell_type": "code",
   "execution_count": null,
   "metadata": {},
   "outputs": [],
   "source": []
  }
 ],
 "metadata": {
  "kernelspec": {
   "display_name": "Python 3",
   "language": "python",
   "name": "python3"
  },
  "language_info": {
   "codemirror_mode": {
    "name": "ipython",
    "version": 3
   },
   "file_extension": ".py",
   "mimetype": "text/x-python",
   "name": "python",
   "nbconvert_exporter": "python",
   "pygments_lexer": "ipython3",
   "version": "3.7.6"
  }
 },
 "nbformat": 4,
 "nbformat_minor": 4
}
