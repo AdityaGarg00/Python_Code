{
 "cells": [
  {
   "cell_type": "code",
   "execution_count": 1,
   "metadata": {},
   "outputs": [],
   "source": [
    "import numpy as np\n",
    "import matplotlib.pyplot as plt\n",
    "from sklearn.datasets import make_blobs"
   ]
  },
  {
   "cell_type": "code",
   "execution_count": 2,
   "metadata": {},
   "outputs": [],
   "source": [
    "#Generate isotropic Gaussian blobs for clustering.\n",
    "#it basically create cluster we will not use y \n",
    "#or _in place of y as unsupervised learning\n",
    "#X,y =make_blobs(n_samples=500,n_features=2,centers=5,random_state=6)"
   ]
  },
  {
   "cell_type": "code",
   "execution_count": 4,
   "metadata": {},
   "outputs": [
    {
     "data": {
      "text/plain": [
       "array([[-7.48209273,  2.08872751],\n",
       "       [ 6.39014964, -1.78629974],\n",
       "       [ 1.78777253,  0.27382589],\n",
       "       [ 7.94799999, -3.0901373 ],\n",
       "       [ 5.79778126, -8.88927032],\n",
       "       [-8.98049813,  1.00657417],\n",
       "       [ 7.82101326, -3.45125088],\n",
       "       [ 6.16599213, -1.93259645],\n",
       "       [-9.92725158,  1.44595209],\n",
       "       [ 7.79711042, -3.92889219]])"
      ]
     },
     "execution_count": 4,
     "metadata": {},
     "output_type": "execute_result"
    }
   ],
   "source": [
    "X[:10]\n"
   ]
  },
  {
   "cell_type": "code",
   "execution_count": 5,
   "metadata": {},
   "outputs": [
    {
     "data": {
      "text/plain": [
       "(500, 2)"
      ]
     },
     "execution_count": 5,
     "metadata": {},
     "output_type": "execute_result"
    }
   ],
   "source": [
    "X.shape"
   ]
  },
  {
   "cell_type": "code",
   "execution_count": 6,
   "metadata": {},
   "outputs": [],
   "source": [
    "#y[:10]"
   ]
  },
  {
   "cell_type": "code",
   "execution_count": 7,
   "metadata": {},
   "outputs": [],
   "source": [
    "#y.shape"
   ]
  },
  {
   "cell_type": "code",
   "execution_count": 62,
   "metadata": {},
   "outputs": [],
   "source": [
    "X ,_=make_blobs(n_samples=500,n_features=2,centers=5,random_state=10)\n",
    "#centers is for how many groups we want"
   ]
  },
  {
   "cell_type": "code",
   "execution_count": 63,
   "metadata": {},
   "outputs": [
    {
     "data": {
      "text/plain": [
       "array([-7.32786741,  1.12565931, -0.49239887, -7.12432134,  2.38696269,\n",
       "        6.55519802, -4.60484127, -1.27010839,  5.77989048, -7.72699176])"
      ]
     },
     "execution_count": 63,
     "metadata": {},
     "output_type": "execute_result"
    }
   ],
   "source": [
    "X[:10,0]"
   ]
  },
  {
   "cell_type": "code",
   "execution_count": 64,
   "metadata": {},
   "outputs": [
    {
     "data": {
      "text/plain": [
       "<matplotlib.collections.PathCollection at 0x1872e5cd488>"
      ]
     },
     "execution_count": 64,
     "metadata": {},
     "output_type": "execute_result"
    },
    {
     "data": {
      "image/png": "[encoded data removed]",
      "text/plain": [
       "<Figure size 432x288 with 1 Axes>"
      ]
     },
     "metadata": {
      "needs_background": "light"
     },
     "output_type": "display_data"
    }
   ],
   "source": [
    "#X[:,feature1] ,X[:,feature2]\n",
    "plt.scatter(X[:,0],X[:,1])\n",
    "#five Cluster \n",
    "#we have to find labels for them for eg colour mapping "
   ]
  },
  {
   "cell_type": "code",
   "execution_count": 65,
   "metadata": {},
   "outputs": [],
   "source": [
    "#first we make from scratch then we do by sklearn"
   ]
  },
  {
   "cell_type": "code",
   "execution_count": 66,
   "metadata": {},
   "outputs": [],
   "source": [
    "k=5"
   ]
  },
  {
   "cell_type": "code",
   "execution_count": 109,
   "metadata": {},
   "outputs": [],
   "source": [
    "color=[\"red\",\"maroon\",\"blue\",\"yellow\",\"orange\"]"
   ]
  },
  {
   "cell_type": "code",
   "execution_count": 110,
   "metadata": {},
   "outputs": [],
   "source": [
    "#intialize clusters- centeroid by finding mean of data(centers) randomly\n",
    "for i in range(k):\n",
    "    center =np.random.randint(-8,10,size=(X.shape[1]))"
   ]
  },
  {
   "cell_type": "code",
   "execution_count": 111,
   "metadata": {},
   "outputs": [
    {
     "data": {
      "text/plain": [
       "array([-7, -4])"
      ]
     },
     "execution_count": 111,
     "metadata": {},
     "output_type": "execute_result"
    }
   ],
   "source": [
    "#np.random.randint(-8,10,size=(X.shape[1],))\n",
    "#or this can be written as\n",
    "np.random.randint(-8,10,size=(2,))"
   ]
  },
  {
   "cell_type": "code",
   "execution_count": 112,
   "metadata": {},
   "outputs": [
    {
     "data": {
      "text/plain": [
       "(2,)"
      ]
     },
     "execution_count": 112,
     "metadata": {},
     "output_type": "execute_result"
    }
   ],
   "source": [
    "(X.shape[1],)"
   ]
  },
  {
   "cell_type": "code",
   "execution_count": 113,
   "metadata": {},
   "outputs": [],
   "source": [
    "clusters = {}"
   ]
  },
  {
   "cell_type": "code",
   "execution_count": 114,
   "metadata": {},
   "outputs": [],
   "source": [
    "# Initialize clusters\n",
    "\n",
    "for i in range(k):\n",
    "    center = np.random.randint(-8, 10, size= (X.shape[1],), )\n",
    "    points = []\n",
    "    \n",
    "    cluster = {\n",
    "        'center' : center,\n",
    "        'points' : points,\n",
    "        'color' : color[i]\n",
    "    }\n",
    "    \n",
    "    clusters[i] = cluster"
   ]
  },
  {
   "cell_type": "code",
   "execution_count": 117,
   "metadata": {},
   "outputs": [
    {
     "data": {
      "text/plain": [
       "{0: {'center': array([0, 0]), 'points': [], 'color': 'red'},\n",
       " 1: {'center': array([ 6, -3]), 'points': [], 'color': 'maroon'},\n",
       " 2: {'center': array([-8,  2]), 'points': [], 'color': 'blue'},\n",
       " 3: {'center': array([ 2, -5]), 'points': [], 'color': 'yellow'},\n",
       " 4: {'center': array([9, 5]), 'points': [], 'color': 'orange'}}"
      ]
     },
     "execution_count": 117,
     "metadata": {},
     "output_type": "execute_result"
    }
   ],
   "source": [
    "clusters\n",
    "#its a dictonary of all the clusters containing centers and color \n",
    "#now points is for the list of all points lying in its region "
   ]
  },
  {
   "cell_type": "code",
   "execution_count": 118,
   "metadata": {},
   "outputs": [
    {
     "data": {
      "image/png": "[encoded data removed]",
      "text/plain": [
       "<Figure size 432x288 with 1 Axes>"
      ]
     },
     "metadata": {
      "needs_background": "light"
     },
     "output_type": "display_data"
    }
   ],
   "source": [
    "plt.scatter(X[:, 0], X[:, 1])\n",
    "\n",
    "for i in range(k):#for all the clusters\n",
    "    center = clusters[i]['center'] #its cluster's center\n",
    "    plt.scatter(center[0], center[1], c=clusters[i]['color'], s=300, marker=\"o\")\n",
    "    #here we also taking color from the repective cluster's color\n",
    "plt.show()"
   ]
  },
  {
   "cell_type": "code",
   "execution_count": null,
   "metadata": {},
   "outputs": [],
   "source": []
  },
  {
   "cell_type": "code",
   "execution_count": null,
   "metadata": {},
   "outputs": [],
   "source": []
  }
 ],
 "metadata": {
  "kernelspec": {
   "display_name": "Python 3",
   "language": "python",
   "name": "python3"
  },
  "language_info": {
   "codemirror_mode": {
    "name": "ipython",
    "version": 3
   },
   "file_extension": ".py",
   "mimetype": "text/x-python",
   "name": "python",
   "nbconvert_exporter": "python",
   "pygments_lexer": "ipython3",
   "version": "3.7.6"
  }
 },
 "nbformat": 4,
 "nbformat_minor": 4
}
