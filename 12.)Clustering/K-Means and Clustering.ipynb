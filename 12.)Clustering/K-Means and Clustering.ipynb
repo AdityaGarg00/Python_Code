{
 "cells": [
  {
   "cell_type": "code",
   "execution_count": 1,
   "metadata": {},
   "outputs": [],
   "source": [
    "import numpy as np\n",
    "import matplotlib.pyplot as plt\n",
    "from sklearn.datasets import make_blobs"
   ]
  },
  {
   "cell_type": "code",
   "execution_count": 2,
   "metadata": {},
   "outputs": [],
   "source": [
    "#Generate isotropic Gaussian blobs for clustering.\n",
    "#it basically create cluster we will not use y \n",
    "#or _in place of y as unsupervised learning\n",
    "#X,y =make_blobs(n_samples=500,n_features=2,centers=5,random_state=6)"
   ]
  },
  {
   "cell_type": "code",
   "execution_count": 10,
   "metadata": {},
   "outputs": [
    {
     "data": {
      "text/plain": [
       "array([[ -7.32786741,   4.23641465],\n",
       "       [  1.12565931,   6.32088416],\n",
       "       [ -0.49239887,  -5.28550826],\n",
       "       [ -7.12432134,   6.16236021],\n",
       "       [  2.38696269,   4.11331935],\n",
       "       [  6.55519802, -10.28277104],\n",
       "       [ -4.60484127,   4.27470475],\n",
       "       [ -1.27010839,  -6.55718306],\n",
       "       [  5.77989048,  -9.7922405 ],\n",
       "       [ -7.72699176,  -9.47166311]])"
      ]
     },
     "execution_count": 10,
     "metadata": {},
     "output_type": "execute_result"
    }
   ],
   "source": [
    "X[:10]\n"
   ]
  },
  {
   "cell_type": "code",
   "execution_count": 11,
   "metadata": {},
   "outputs": [
    {
     "data": {
      "text/plain": [
       "(500, 2)"
      ]
     },
     "execution_count": 11,
     "metadata": {},
     "output_type": "execute_result"
    }
   ],
   "source": [
    "X.shape"
   ]
  },
  {
   "cell_type": "code",
   "execution_count": 5,
   "metadata": {},
   "outputs": [],
   "source": [
    "#y[:10]"
   ]
  },
  {
   "cell_type": "code",
   "execution_count": 6,
   "metadata": {},
   "outputs": [],
   "source": [
    "#y.shape"
   ]
  },
  {
   "cell_type": "code",
   "execution_count": 7,
   "metadata": {},
   "outputs": [],
   "source": [
    "X ,_=make_blobs(n_samples=500,n_features=2,centers=5,random_state=10)\n",
    "#centers is for how many groups we want"
   ]
  },
  {
   "cell_type": "code",
   "execution_count": 8,
   "metadata": {},
   "outputs": [
    {
     "data": {
      "text/plain": [
       "array([-7.32786741,  1.12565931, -0.49239887, -7.12432134,  2.38696269,\n",
       "        6.55519802, -4.60484127, -1.27010839,  5.77989048, -7.72699176])"
      ]
     },
     "execution_count": 8,
     "metadata": {},
     "output_type": "execute_result"
    }
   ],
   "source": [
    "X[:10,0]"
   ]
  },
  {
   "cell_type": "code",
   "execution_count": 9,
   "metadata": {},
   "outputs": [
    {
     "data": {
      "text/plain": [
       "<matplotlib.collections.PathCollection at 0x182df6ce248>"
      ]
     },
     "execution_count": 9,
     "metadata": {},
     "output_type": "execute_result"
    },
    {
     "data": {
      "image/png": "[encoded data removed]",
      "text/plain": [
       "<Figure size 432x288 with 1 Axes>"
      ]
     },
     "metadata": {
      "needs_background": "light"
     },
     "output_type": "display_data"
    }
   ],
   "source": [
    "#X[:,feature1] ,X[:,feature2]\n",
    "plt.scatter(X[:,0],X[:,1])\n",
    "#five Cluster \n",
    "#we have to find labels for them for eg colour mapping "
   ]
  },
  {
   "cell_type": "code",
   "execution_count": 12,
   "metadata": {},
   "outputs": [],
   "source": [
    "#first we make from scratch then we do by sklearn"
   ]
  },
  {
   "cell_type": "code",
   "execution_count": 13,
   "metadata": {},
   "outputs": [],
   "source": [
    "k=5"
   ]
  },
  {
   "cell_type": "code",
   "execution_count": 14,
   "metadata": {},
   "outputs": [],
   "source": [
    "color=[\"red\",\"maroon\",\"blue\",\"yellow\",\"orange\"]"
   ]
  },
  {
   "cell_type": "code",
   "execution_count": 15,
   "metadata": {},
   "outputs": [],
   "source": [
    "#intialize clusters- centeroid by finding mean of data(centers) randomly\n",
    "for i in range(k):\n",
    "    center =np.random.randint(-8,10,size=(X.shape[1]))"
   ]
  },
  {
   "cell_type": "code",
   "execution_count": 16,
   "metadata": {},
   "outputs": [
    {
     "data": {
      "text/plain": [
       "array([-8, -3])"
      ]
     },
     "execution_count": 16,
     "metadata": {},
     "output_type": "execute_result"
    }
   ],
   "source": [
    "#np.random.randint(-8,10,size=(X.shape[1],))\n",
    "#or this can be written as\n",
    "np.random.randint(-8,10,size=(2,))"
   ]
  },
  {
   "cell_type": "code",
   "execution_count": 17,
   "metadata": {},
   "outputs": [
    {
     "data": {
      "text/plain": [
       "(2,)"
      ]
     },
     "execution_count": 17,
     "metadata": {},
     "output_type": "execute_result"
    }
   ],
   "source": [
    "(X.shape[1],)"
   ]
  },
  {
   "cell_type": "code",
   "execution_count": 18,
   "metadata": {},
   "outputs": [],
   "source": [
    "clusters = {}"
   ]
  },
  {
   "cell_type": "markdown",
   "metadata": {},
   "source": [
    "# step 1\n"
   ]
  },
  {
   "cell_type": "code",
   "execution_count": 85,
   "metadata": {},
   "outputs": [],
   "source": [
    "# Initialize clusters\n",
    "\n",
    "for i in range(k):\n",
    "    center = np.random.randint(-8, 10, size= (X.shape[1],), )\n",
    "    points = []\n",
    "    \n",
    "    cluster = {\n",
    "        'center' : center,\n",
    "        'points' : points,\n",
    "        'color' : color[i]\n",
    "    }\n",
    "    \n",
    "    clusters[i] = cluster"
   ]
  },
  {
   "cell_type": "code",
   "execution_count": 86,
   "metadata": {},
   "outputs": [
    {
     "data": {
      "text/plain": [
       "{0: {'center': array([ 1, -1]), 'points': [], 'color': 'red'},\n",
       " 1: {'center': array([ 7, -3]), 'points': [], 'color': 'maroon'},\n",
       " 2: {'center': array([ 4, -4]), 'points': [], 'color': 'blue'},\n",
       " 3: {'center': array([-7, -2]), 'points': [], 'color': 'yellow'},\n",
       " 4: {'center': array([-7, -4]), 'points': [], 'color': 'orange'}}"
      ]
     },
     "execution_count": 86,
     "metadata": {},
     "output_type": "execute_result"
    }
   ],
   "source": [
    "clusters\n",
    "#its a dictonary of all the clusters containing centers and color \n",
    "#now points is for the list of all points lying in its region "
   ]
  },
  {
   "cell_type": "code",
   "execution_count": 87,
   "metadata": {},
   "outputs": [
    {
     "data": {
      "image/png": "[encoded data removed]",
      "text/plain": [
       "<Figure size 432x288 with 1 Axes>"
      ]
     },
     "metadata": {
      "needs_background": "light"
     },
     "output_type": "display_data"
    }
   ],
   "source": [
    "\n",
    "for i in range(k):#for all the clusters\n",
    "    center = clusters[i]['center'] #its cluster's center\n",
    "    plt.scatter(center[0], center[1], c=clusters[i]['color'], s=300, marker=\"o\")\n",
    "    #here we also taking color from the repective cluster's color\n",
    "    \n",
    "plt.scatter(X[:, 0], X[:, 1])\n",
    "    \n",
    "plt.show()"
   ]
  },
  {
   "cell_type": "code",
   "execution_count": 88,
   "metadata": {},
   "outputs": [
    {
     "data": {
      "image/png": "[encoded data removed]",
      "text/plain": [
       "<Figure size 432x288 with 1 Axes>"
      ]
     },
     "metadata": {
      "needs_background": "light"
     },
     "output_type": "display_data"
    }
   ],
   "source": [
    "plt.scatter(X[:, 0], X[:, 1])\n",
    "\n",
    "for i in range(k):#for all the clusters\n",
    "    center = clusters[i]['center'] #its cluster's center\n",
    "    plt.scatter(center[0], center[1], c=clusters[i]['color'], s=300, marker=\"o\")\n",
    "    #here we also taking color from the repective cluster's color\n",
    "plt.show()"
   ]
  },
  {
   "cell_type": "markdown",
   "metadata": {},
   "source": [
    "# Step2- Assign All points to nearest Cluster "
   ]
  },
  {
   "cell_type": "code",
   "execution_count": 89,
   "metadata": {},
   "outputs": [],
   "source": [
    "#it will iterate over all the points\n",
    "#find the distance from all 5  =k and include which is nearest or less distance "
   ]
  },
  {
   "cell_type": "code",
   "execution_count": 90,
   "metadata": {},
   "outputs": [],
   "source": [
    "#Euclidean Distance b/w cluster pts and cluster center\n",
    "def distance(v1, v2):\n",
    "    return np.sum((v2-v1)**2)**0.5"
   ]
  },
  {
   "cell_type": "code",
   "execution_count": 91,
   "metadata": {},
   "outputs": [],
   "source": [
    "def assignPointsToCluster(clusters, X):\n",
    "    \n",
    "    for ix in range(X.shape[0]):#iterate for all the examples\n",
    "        distance_of_i = [] #we can make alist of five dist from cluster center\n",
    "        \n",
    "        for kx in range(k):\n",
    "            d = distance(X[ix], clusters[kx]['center']) #we have find distance b/w \n",
    "            #distance of the point with all the five (k) cluster crnters\n",
    "            distance_of_i.append(d)\n",
    "            \n",
    "        cluster_to_choose = np.argmin(distance_of_i)\n",
    "        #here we want min dist cluster center\n",
    "        clusters[cluster_to_choose]['points'].append(X[ix])\n",
    "        #here we are appending the cluster pts in pts list that are mini dist with center "
   ]
  },
  {
   "cell_type": "code",
   "execution_count": 92,
   "metadata": {},
   "outputs": [
    {
     "data": {
      "text/plain": [
       "array([ 1, -1])"
      ]
     },
     "execution_count": 92,
     "metadata": {},
     "output_type": "execute_result"
    }
   ],
   "source": [
    "clusters[0][\"center\"] "
   ]
  },
  {
   "cell_type": "code",
   "execution_count": 93,
   "metadata": {},
   "outputs": [],
   "source": [
    "assignPointsToCluster(clusters, X)"
   ]
  },
  {
   "cell_type": "code",
   "execution_count": 94,
   "metadata": {},
   "outputs": [
    {
     "data": {
      "text/plain": [
       "{'center': array([-7, -2]),\n",
       " 'points': [array([-7.32786741,  4.23641465]),\n",
       "  array([-7.12432134,  6.16236021]),\n",
       "  array([-4.60484127,  4.27470475]),\n",
       "  array([-5.70068336,  6.31448715]),\n",
       "  array([-6.09934226,  5.42784246]),\n",
       "  array([-6.44966631,  6.14144988]),\n",
       "  array([-6.69718292,  4.73157968]),\n",
       "  array([-5.85542429,  5.19912575]),\n",
       "  array([-7.66518952,  3.75182482]),\n",
       "  array([-3.97311699,  6.25266666]),\n",
       "  array([-6.14761625,  7.0313949 ]),\n",
       "  array([-7.23972132,  6.05679934]),\n",
       "  array([-6.14361949,  4.22019035]),\n",
       "  array([-6.10065892,  4.15176595]),\n",
       "  array([-5.19190142,  5.367266  ]),\n",
       "  array([-6.56291653,  4.79204022]),\n",
       "  array([-5.69601631,  6.08324441]),\n",
       "  array([-7.36410858,  5.22916238]),\n",
       "  array([-6.79051461,  4.77684156]),\n",
       "  array([-5.56610328,  5.28627316]),\n",
       "  array([-5.2586964 ,  6.26943127]),\n",
       "  array([-6.85667908,  5.41998533]),\n",
       "  array([-5.7233584 ,  6.34841371]),\n",
       "  array([-7.1193392 ,  4.97456689]),\n",
       "  array([-4.88064634,  6.21037476]),\n",
       "  array([-5.24650322,  4.41951229]),\n",
       "  array([-7.00900597,  6.39196608]),\n",
       "  array([-5.42751292,  5.00701117]),\n",
       "  array([-6.00934191,  5.37242703]),\n",
       "  array([-6.98969169,  4.09495509]),\n",
       "  array([-6.3158131 ,  7.20061976]),\n",
       "  array([-5.46880916,  5.81982465]),\n",
       "  array([-6.18228514,  5.12813368]),\n",
       "  array([-5.50047406,  5.40580704]),\n",
       "  array([-5.63941533,  2.69914514]),\n",
       "  array([-3.83385701,  4.75852496]),\n",
       "  array([-5.82521358,  6.32864505]),\n",
       "  array([-6.45519132,  4.06683784]),\n",
       "  array([-6.70249363,  6.49218808]),\n",
       "  array([-5.6613457 ,  4.70395486]),\n",
       "  array([-5.28418779,  4.18581155]),\n",
       "  array([-7.19520636,  4.82515334]),\n",
       "  array([-6.19326448,  7.04076139]),\n",
       "  array([-6.78798994,  5.89746265]),\n",
       "  array([-6.69100406,  6.63346759]),\n",
       "  array([-5.52467276,  4.97594678]),\n",
       "  array([-8.00126122,  3.91375212]),\n",
       "  array([-6.93904227,  3.30960051]),\n",
       "  array([-7.92359288,  4.49310203]),\n",
       "  array([-5.55572657,  6.18752027]),\n",
       "  array([-6.53816295,  4.93959634]),\n",
       "  array([-6.58839033,  5.39807069]),\n",
       "  array([-5.42476467,  5.09340077]),\n",
       "  array([-4.93140656,  3.87282519]),\n",
       "  array([-4.94162188,  4.67203688]),\n",
       "  array([-5.65016468,  5.42439896]),\n",
       "  array([-6.64384668,  5.49454516]),\n",
       "  array([-8.02584685,  4.56978195]),\n",
       "  array([-6.23284524,  3.4638784 ]),\n",
       "  array([-6.35456806,  3.92167843]),\n",
       "  array([-5.10963141,  6.59315173]),\n",
       "  array([-6.26913492,  7.08060207]),\n",
       "  array([-7.19746037,  5.65034692]),\n",
       "  array([-5.13225054,  6.20986874]),\n",
       "  array([-6.60705788,  6.21981028]),\n",
       "  array([-5.93280633,  3.97259672]),\n",
       "  array([-4.23349713,  5.13659102]),\n",
       "  array([-6.6586886 ,  6.42867435]),\n",
       "  array([-7.49758708,  5.68826319]),\n",
       "  array([-5.19837655,  4.98541541]),\n",
       "  array([-6.26150878,  5.77248671]),\n",
       "  array([-3.8867722 ,  5.15738935]),\n",
       "  array([-4.73847365,  4.06451842]),\n",
       "  array([-5.88101773,  6.64425077]),\n",
       "  array([-6.06566534,  3.64316624]),\n",
       "  array([-6.11534771,  4.54637692]),\n",
       "  array([-6.93238266,  5.16960174]),\n",
       "  array([-6.65959704,  5.93910771]),\n",
       "  array([-5.91259784,  5.83619619]),\n",
       "  array([-7.56377699,  5.66850622]),\n",
       "  array([-7.77106413,  4.33681253]),\n",
       "  array([-6.23706321,  5.33526041]),\n",
       "  array([-3.84314596,  4.50797046]),\n",
       "  array([-7.17343803,  4.40281792]),\n",
       "  array([-6.16936363,  5.70359945]),\n",
       "  array([-5.00108852,  5.25628014]),\n",
       "  array([-6.19483629,  3.31896885]),\n",
       "  array([-6.01769948,  5.36698577]),\n",
       "  array([-6.1686098,  4.9175253]),\n",
       "  array([-4.76692208,  5.09106126]),\n",
       "  array([-5.36700177,  5.38575374]),\n",
       "  array([-6.33340078,  5.02369294]),\n",
       "  array([-4.73025555,  7.87319172]),\n",
       "  array([-6.24817867,  4.91592989]),\n",
       "  array([-6.18971976,  5.22853743]),\n",
       "  array([-5.47057563,  4.04114657]),\n",
       "  array([-6.56535074,  4.75483234]),\n",
       "  array([-6.14710269,  6.70384757]),\n",
       "  array([-6.52013726,  4.39970243])],\n",
       " 'color': 'yellow'}"
      ]
     },
     "execution_count": 94,
     "metadata": {},
     "output_type": "execute_result"
    }
   ],
   "source": [
    "clusters[3]\n",
    "#cluster center associated with the nearest point !! "
   ]
  },
  {
   "cell_type": "code",
   "execution_count": 95,
   "metadata": {},
   "outputs": [],
   "source": [
    "# #plotting clusters\n",
    "# for kx in range(k):\n",
    "#         cluster_ke_points = clusters[kx]['points']\n",
    "#         cluster_ka_color = clusters[kx]['color']\n",
    "#         cluster_ka_center = clusters[kx]['center']\n",
    "        \n",
    "#         cluster_ke_points = np.array(cluster_ke_points)\n",
    "#         #bcz cluster pts are array of list but we want array so \n",
    "#         print(cluster_ke_points.shape)\n",
    "#         if len(cluster_ke_points)>0:\n",
    "#             #if no point is associated with cluster center\n",
    "#             plt.scatter(cluster_ke_points[:, 0], cluster_ke_points[:, 1], c=cluster_ka_color)\n",
    "        \n",
    "#         plt.scatter(cluster_ka_center[0], cluster_ka_center[1], c='black', s=300, marker=\"*\")"
   ]
  },
  {
   "cell_type": "code",
   "execution_count": 96,
   "metadata": {},
   "outputs": [],
   "source": [
    "def plotclusters(clusters):\n",
    "    for kx in range(k):\n",
    "        cluster_ke_points = clusters[kx]['points']\n",
    "        cluster_ka_color = clusters[kx]['color']\n",
    "        cluster_ka_center = clusters[kx]['center']\n",
    "        \n",
    "        cluster_ke_points = np.array(cluster_ke_points)\n",
    "        print(cluster_ke_points.shape)\n",
    "        if len(cluster_ke_points)>0:\n",
    "            plt.scatter(cluster_ke_points[:, 0], cluster_ke_points[:, 1], c=cluster_ka_color)\n",
    "        \n",
    "        plt.scatter(cluster_ka_center[0], cluster_ka_center[1], c='black', s=300, marker=\"*\")"
   ]
  },
  {
   "cell_type": "markdown",
   "metadata": {},
   "source": [
    "# Step - 3 Update centers to mean of all points"
   ]
  },
  {
   "cell_type": "code",
   "execution_count": 97,
   "metadata": {},
   "outputs": [],
   "source": [
    "def updateCluster(clusters):\n",
    "    \n",
    "    for kx in range(k):\n",
    "        cluster_ke_points = clusters[kx]['points']\n",
    "        \n",
    "        cluster_ke_points = np.array(cluster_ke_points)\n",
    "        \n",
    "        if len(cluster_ke_points)>0:\n",
    "            new_center = np.mean(cluster_ke_points, axis=0) #axis is along rows so will \n",
    "            #find mean of all the feature seprately it will give 2,0 when we have cluster pts 50,2\n",
    "            clusters[kx]['center'] = new_center\n",
    "            clusters[kx]['points'] = [] # clear the points in a cluster list (emptying pts)\n",
    "            #as we have to do step 2 after step 3 again till not converge "
   ]
  },
  {
   "cell_type": "code",
   "execution_count": 100,
   "metadata": {},
   "outputs": [
    {
     "ename": "NameError",
     "evalue": "name 'cluster_ke_points' is not defined",
     "output_type": "error",
     "traceback": [
      "\u001b[1;31m---------------------------------------------------------------------------\u001b[0m",
      "\u001b[1;31mNameError\u001b[0m                                 Traceback (most recent call last)",
      "\u001b[1;32m<ipython-input-100-2c7b41bc0c6b>\u001b[0m in \u001b[0;36m<module>\u001b[1;34m\u001b[0m\n\u001b[1;32m----> 1\u001b[1;33m \u001b[0mcluster_ke_points\u001b[0m\u001b[1;33m\u001b[0m\u001b[1;33m\u001b[0m\u001b[0m\n\u001b[0m",
      "\u001b[1;31mNameError\u001b[0m: name 'cluster_ke_points' is not defined"
     ]
    }
   ],
   "source": [
    "\n",
    "cluster_ke_points"
   ]
  },
  {
   "cell_type": "code",
   "execution_count": 105,
   "metadata": {},
   "outputs": [
    {
     "name": "stdout",
     "output_type": "stream",
     "text": [
      "(100, 2)\n",
      "(100, 2)\n",
      "(100, 2)\n",
      "(100, 2)\n",
      "(100, 2)\n"
     ]
    },
    {
     "data": {
      "image/png": "[encoded data removed]",
      "text/plain": [
       "<Figure size 432x288 with 1 Axes>"
      ]
     },
     "metadata": {
      "needs_background": "light"
     },
     "output_type": "display_data"
    }
   ],
   "source": [
    "assignPointsToCluster(clusters, X)\n",
    "\n",
    "plotclusters(clusters)\n",
    "\n",
    "updateCluster(clusters)\n",
    "#predictiion "
   ]
  },
  {
   "cell_type": "markdown",
   "metadata": {},
   "source": [
    "# Actual Outputs"
   ]
  },
  {
   "cell_type": "code",
   "execution_count": 106,
   "metadata": {},
   "outputs": [],
   "source": [
    "#Actual \n",
    "#for seeing actual output u can check with this \n",
    "X,y =make_blobs(n_samples=500,n_features=2,centers=5,random_state=10)"
   ]
  },
  {
   "cell_type": "code",
   "execution_count": 107,
   "metadata": {},
   "outputs": [
    {
     "data": {
      "image/png": "[encoded data removed]",
      "text/plain": [
       "<Figure size 432x288 with 1 Axes>"
      ]
     },
     "metadata": {
      "needs_background": "light"
     },
     "output_type": "display_data"
    }
   ],
   "source": [
    "#y is label here \n",
    "plt.scatter(X[:, 0], X[:, 1],c=y)\n",
    "plt.show()"
   ]
  },
  {
   "cell_type": "markdown",
   "metadata": {},
   "source": [
    "# from Sklearn - KMeans++"
   ]
  },
  {
   "cell_type": "code",
   "execution_count": 108,
   "metadata": {},
   "outputs": [],
   "source": [
    "from sklearn.cluster import KMeans"
   ]
  },
  {
   "cell_type": "code",
   "execution_count": 110,
   "metadata": {},
   "outputs": [
    {
     "ename": "SyntaxError",
     "evalue": "invalid syntax (<ipython-input-110-84d3becbcc13>, line 1)",
     "output_type": "error",
     "traceback": [
      "\u001b[1;36m  File \u001b[1;32m\"<ipython-input-110-84d3becbcc13>\"\u001b[1;36m, line \u001b[1;32m1\u001b[0m\n\u001b[1;33m    km = KMeans(n_clusters=5,init=k-means++)\u001b[0m\n\u001b[1;37m                                           ^\u001b[0m\n\u001b[1;31mSyntaxError\u001b[0m\u001b[1;31m:\u001b[0m invalid syntax\n"
     ]
    }
   ],
   "source": [
    "km = KMeans(n_clusters=5,init=k-means++)\n",
    "# init='k-means++'\n",
    "\"\"\"init : {'k-means++', 'random'} or ndarray of shape             (n_clusters, n_features), default='k-means++'\n",
    "    Method for initialization, defaults to 'k-means++':\n",
    "\n",
    "    'k-means++' : selects initial cluster centers for k-mean\n",
    "    clustering in a smart way to speed up convergence. See section\n",
    "    Notes in k_init for more details.\n",
    "\n",
    "    'random': choose k observations (rows) at random from data for\n",
    "    the initial centroids.\n",
    "\n",
    "    If an ndarray is passed, it should be of shape (n_clusters, n_features)\n",
    "    and gives the initial centers.\n",
    "\n",
    "n_init : int, default=10\n",
    "    Number of time the k-means algorithm will be run with different\n",
    "    centroid seeds. The final results will be the best output of\n",
    "    n_init consecutive runs in terms of inertia.\"\"\""
   ]
  },
  {
   "cell_type": "code",
   "execution_count": null,
   "metadata": {},
   "outputs": [],
   "source": []
  }
 ],
 "metadata": {
  "kernelspec": {
   "display_name": "Python 3",
   "language": "python",
   "name": "python3"
  },
  "language_info": {
   "codemirror_mode": {
    "name": "ipython",
    "version": 3
   },
   "file_extension": ".py",
   "mimetype": "text/x-python",
   "name": "python",
   "nbconvert_exporter": "python",
   "pygments_lexer": "ipython3",
   "version": "3.7.6"
  }
 },
 "nbformat": 4,
 "nbformat_minor": 4
}
