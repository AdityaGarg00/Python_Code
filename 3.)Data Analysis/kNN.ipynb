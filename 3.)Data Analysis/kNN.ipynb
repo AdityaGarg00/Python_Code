{
 "cells": [
  {
   "cell_type": "code",
   "execution_count": 1,
   "metadata": {},
   "outputs": [],
   "source": [
    "#scikit learn or sk learn "
   ]
  },
  {
   "cell_type": "code",
   "execution_count": 2,
   "metadata": {},
   "outputs": [],
   "source": [
    "#pip install scikit-learn"
   ]
  },
  {
   "cell_type": "code",
   "execution_count": 3,
   "metadata": {},
   "outputs": [],
   "source": [
    "from sklearn.datasets import make_blobs\n",
    "#importing dataset from sklearn\n",
    "#make_blobs random dumy dataset\n",
    "import numpy as np\n",
    "import matplotlib.pyplot as plt\n",
    "import pandas as pd"
   ]
  },
  {
   "cell_type": "code",
   "execution_count": 4,
   "metadata": {},
   "outputs": [],
   "source": [
    "X,y=make_blobs(n_samples=100,centers=2,n_features=2,random_state=2) \n",
    "#random_state parameter not fix so change dataset everytime if not put some val\n",
    "\n",
    "# centers parameter --no. of classes you want? bydefault its 3\n",
    "\n",
    "#n_features --how many of features you have for input (X)\n",
    "\n",
    "#n_samples how many samples of input u have"
   ]
  },
  {
   "cell_type": "code",
   "execution_count": 5,
   "metadata": {},
   "outputs": [
    {
     "data": {
      "text/plain": [
       "(100, 2)"
      ]
     },
     "execution_count": 5,
     "metadata": {},
     "output_type": "execute_result"
    }
   ],
   "source": [
    "X.shape"
   ]
  },
  {
   "cell_type": "code",
   "execution_count": 6,
   "metadata": {},
   "outputs": [
    {
     "data": {
      "text/plain": [
       "(100,)"
      ]
     },
     "execution_count": 6,
     "metadata": {},
     "output_type": "execute_result"
    }
   ],
   "source": [
    "y.shape"
   ]
  },
  {
   "cell_type": "code",
   "execution_count": 7,
   "metadata": {},
   "outputs": [
    {
     "data": {
      "text/plain": [
       "array([-3.93955141, -9.57292799])"
      ]
     },
     "execution_count": 7,
     "metadata": {},
     "output_type": "execute_result"
    }
   ],
   "source": [
    "X[1]"
   ]
  },
  {
   "cell_type": "code",
   "execution_count": 8,
   "metadata": {},
   "outputs": [],
   "source": [
    "x_axis=X[:,0] #weight \n",
    "y_axis=X[:,1] #height"
   ]
  },
  {
   "cell_type": "code",
   "execution_count": 9,
   "metadata": {},
   "outputs": [
    {
     "data": {
      "image/png": "[encoded data removed]",
      "text/plain": [
       "<Figure size 432x288 with 1 Axes>"
      ]
     },
     "metadata": {
      "needs_background": "light"
     },
     "output_type": "display_data"
    }
   ],
   "source": [
    "plt.scatter(x_axis,y_axis)\n",
    "plt.show()"
   ]
  },
  {
   "cell_type": "code",
   "execution_count": 10,
   "metadata": {},
   "outputs": [
    {
     "data": {
      "text/plain": [
       "array([0, 0, 0, 1, 1, 0, 0, 1, 0, 0, 1, 1, 0, 1, 0, 1, 0, 1, 0, 0, 0, 1,\n",
       "       1, 0, 0, 0, 1, 0, 0, 1, 1, 1, 1, 0, 0, 0, 0, 1, 0, 1, 1, 0, 0, 1,\n",
       "       1, 0, 1, 1, 0, 1, 0, 1, 1, 1, 0, 1, 0, 1, 0, 1, 1, 1, 0, 1, 1, 0,\n",
       "       0, 1, 1, 0, 1, 1, 1, 1, 0, 1, 0, 0, 0, 1, 0, 0, 1, 1, 0, 1, 1, 0,\n",
       "       1, 0, 1, 0, 0, 1, 0, 0, 1, 0, 0, 1])"
      ]
     },
     "execution_count": 10,
     "metadata": {},
     "output_type": "execute_result"
    }
   ],
   "source": [
    "type(y)\n",
    "y\n",
    "#always encode categorical var in number form "
   ]
  },
  {
   "cell_type": "code",
   "execution_count": 11,
   "metadata": {},
   "outputs": [
    {
     "data": {
      "text/plain": [
       "array([-3.93955141, -9.57292799])"
      ]
     },
     "execution_count": 11,
     "metadata": {},
     "output_type": "execute_result"
    }
   ],
   "source": [
    "X[1] #y is 0 \n",
    "#so cat is always mapped with zero"
   ]
  },
  {
   "cell_type": "code",
   "execution_count": 12,
   "metadata": {},
   "outputs": [
    {
     "data": {
      "text/plain": [
       "array([ 0.27399572, -1.87696674])"
      ]
     },
     "execution_count": 12,
     "metadata": {},
     "output_type": "execute_result"
    }
   ],
   "source": [
    "X[3]# y of 3  is 1\n",
    "#so its clearly dog and mapped with 1"
   ]
  },
  {
   "cell_type": "code",
   "execution_count": 13,
   "metadata": {},
   "outputs": [],
   "source": [
    "#y[y==0]=2\n"
   ]
  },
  {
   "cell_type": "code",
   "execution_count": 14,
   "metadata": {},
   "outputs": [],
   "source": [
    "#y now 1 is dog and 2 is cat"
   ]
  },
  {
   "cell_type": "code",
   "execution_count": 15,
   "metadata": {},
   "outputs": [],
   "source": [
    "dic={\n",
    "    0:\"cat\",\n",
    "    1:\"dog\"\n",
    "}\n",
    "#esc+h is for help shortcut"
   ]
  },
  {
   "cell_type": "markdown",
   "metadata": {},
   "source": [
    "# kNN ALGORITHM"
   ]
  },
  {
   "cell_type": "code",
   "execution_count": 16,
   "metadata": {},
   "outputs": [],
   "source": [
    "def find_distance(pA, pB):\n",
    "    return np.sum((pB - pA)**2)**0.5 #here it will return flaot val"
   ]
  },
  {
   "cell_type": "code",
   "execution_count": 17,
   "metadata": {},
   "outputs": [],
   "source": [
    "# def kNN(X, y, x_query, k = 5): #here we can keep k as default parameter\n",
    "    \n",
    "#     \"\"\"\n",
    "#            shape    Datatype \n",
    "#     X - > (100, 2)  np array\n",
    "#     y - > (100,1) np array\n",
    "#     x_query -> (1,2) or 2, np array\n",
    "#     k -> scaler  int\n",
    "    \n",
    "#     do knn for classification\n",
    "#     \"\"\"\n",
    "    \n",
    "#     m = X.shape[0] #total no. of examples we have \n",
    "#     distances = [] \n",
    "#     for i in range(m):\n",
    "#         dis = find_distance(x_query, X[i]) #\n",
    "#         distances.append((dis,y[i])) #so here we are appending list of tuple\n",
    "        \n",
    "#     distances = sorted(distances) #after sorting \n",
    "#     distances = distances[:k] #we are taking first k elements\n",
    "#     return distances \n"
   ]
  },
  {
   "cell_type": "code",
   "execution_count": null,
   "metadata": {},
   "outputs": [],
   "source": []
  },
  {
   "cell_type": "code",
   "execution_count": 18,
   "metadata": {},
   "outputs": [
    {
     "data": {
      "text/plain": [
       "100"
      ]
     },
     "execution_count": 18,
     "metadata": {},
     "output_type": "execute_result"
    }
   ],
   "source": [
    "X.shape[0]"
   ]
  },
  {
   "cell_type": "code",
   "execution_count": 19,
   "metadata": {},
   "outputs": [],
   "source": [
    "# .index(counts.max) this is only for list not for array\n",
    "# .argmax"
   ]
  },
  {
   "cell_type": "code",
   "execution_count": 20,
   "metadata": {},
   "outputs": [],
   "source": [
    "x_query = np.array([-0.3, -10]) #Random point "
   ]
  },
  {
   "cell_type": "code",
   "execution_count": 21,
   "metadata": {},
   "outputs": [
    {
     "data": {
      "image/png": "[encoded data removed]",
      "text/plain": [
       "<Figure size 432x288 with 1 Axes>"
      ]
     },
     "metadata": {
      "needs_background": "light"
     },
     "output_type": "display_data"
    }
   ],
   "source": [
    "plt.scatter(x_axis, y_axis,c=\"yellow\")\n",
    "plt.scatter(-0.3,-10) #so predicting is it a dog or cat\n",
    "plt.show()"
   ]
  },
  {
   "cell_type": "code",
   "execution_count": 22,
   "metadata": {},
   "outputs": [],
   "source": [
    "# l=kNN(X, y, x_query,k=7)\n",
    "# arr=np.array(l)\n",
    "# # [(1.6434529006550789, 1),\n",
    "# #  (1.9528082359495886, 1),\n",
    "# #  (2.2308362928530237, 0),\n",
    "# #  (2.573594101280993, 0),\n",
    "# #  (2.5867805100603984, 1),\n",
    "# #  (2.840499424616136, 1),\n",
    "# #  (2.9789538094136425, 1)] #getting list of tuples\n",
    "# #so these are distances \n",
    "# #as we havent used y array mapping"
   ]
  },
  {
   "cell_type": "code",
   "execution_count": 23,
   "metadata": {},
   "outputs": [],
   "source": [
    "# arr[:,1] #but with list it is difficult\n",
    "# #we can get the labels 0,1 -cat,dog\n",
    "#now u have to take the count and find maxing vote of Labels"
   ]
  },
  {
   "cell_type": "code",
   "execution_count": 24,
   "metadata": {},
   "outputs": [],
   "source": [
    "# def kNN(X, y, x_query, k = 5): #here we can keep k as default parameter\n",
    "    \n",
    "#     \"\"\"\n",
    "#            shape    Datatype \n",
    "#     X - > (100, 2)  np array\n",
    "#     y - > (100,1) np array\n",
    "#     x_query -> (1,2) or 2, np array\n",
    "#     k -> scaler  int\n",
    "    \n",
    "#     do knn for classification\n",
    "#     \"\"\"\n",
    "    \n",
    "#     m = X.shape[0] #total no. of examples we have \n",
    "#     distances = [] \n",
    "#     for i in range(m):\n",
    "#         dis = find_distance(x_query, X[i]) #\n",
    "#         distances.append((dis,y[i])) #so here we are appending list of tuple\n",
    "        \n",
    "#     distances = sorted(distances) #after sorting \n",
    "#     distances = distances[:k] #we are taking first k elements\n",
    "    \n",
    "#     distances = np.array(distances) #storing distances in array\n",
    "#     labels = distances[:, 1] #for extracting labels\n",
    "    \n",
    "#     return labels\n",
    "    \n",
    "# #     uniq_label, counts =np.unique(labels, return_counts=True)\n",
    "\n",
    "# #     pred = uniq_label[counts.argmax()]\n",
    "    \n",
    "    \n",
    "# #     return dic[int(pred)]"
   ]
  },
  {
   "cell_type": "code",
   "execution_count": 25,
   "metadata": {},
   "outputs": [],
   "source": [
    "# kNN(X, y, x_query,k=5)"
   ]
  },
  {
   "cell_type": "code",
   "execution_count": 26,
   "metadata": {},
   "outputs": [],
   "source": [
    "#Counter class\n",
    "#from collection import Counter\n",
    "#but trying Bruteforce approach"
   ]
  },
  {
   "cell_type": "code",
   "execution_count": 27,
   "metadata": {},
   "outputs": [],
   "source": [
    "# labels,counts=np.unique([1., 1., 0., 0., 1.],return_counts=True)\n",
    "# # we are getting tuple"
   ]
  },
  {
   "cell_type": "code",
   "execution_count": 28,
   "metadata": {},
   "outputs": [],
   "source": [
    "# labels"
   ]
  },
  {
   "cell_type": "code",
   "execution_count": 29,
   "metadata": {},
   "outputs": [],
   "source": [
    "# counts"
   ]
  },
  {
   "cell_type": "code",
   "execution_count": 30,
   "metadata": {},
   "outputs": [],
   "source": [
    "# #for extracting max count of label \n",
    "# #we will use arg max or\n",
    "# predection=labels[counts.argmax()]"
   ]
  },
  {
   "cell_type": "code",
   "execution_count": 31,
   "metadata": {},
   "outputs": [],
   "source": [
    "# print(dic[int(predection)])\n",
    "# #we can change value of x_query and see it"
   ]
  },
  {
   "cell_type": "code",
   "execution_count": 32,
   "metadata": {},
   "outputs": [],
   "source": [
    "#if n increse \n",
    "#or their is a multiclass algo would work"
   ]
  },
  {
   "cell_type": "code",
   "execution_count": 33,
   "metadata": {},
   "outputs": [],
   "source": [
    "def kNN(X, y, x_query, k = 5): #here we can keep k as default parameter\n",
    "    \n",
    "    \"\"\"\n",
    "           shape    Datatype \n",
    "    X - > (100, 2)  np array\n",
    "    y - > (100,1) np array\n",
    "    x_query -> (1,2) or 2, np array\n",
    "    k -> scaler  int\n",
    "    \n",
    "    do knn for classification\n",
    "    \"\"\"\n",
    "    \n",
    "    m = X.shape[0] #total no. of examples we have \n",
    "    distances = [] \n",
    "    for i in range(m):\n",
    "        dis = find_distance(x_query, X[i]) #\n",
    "        distances.append((dis,y[i])) #so here we are appending list of tuple\n",
    "        \n",
    "    distances = sorted(distances) #after sorting \n",
    "    distances = distances[:k] #we are taking first k elements\n",
    "    \n",
    "    distances = np.array(distances) #storing distances in array\n",
    "    labels = distances[:, 1] #for extracting labels\n",
    "    \n",
    "    \n",
    "    \n",
    "    uniq_label, counts =np.unique(labels, return_counts=True) #it find unique elements and return count and label\n",
    "\n",
    "    pred = uniq_label[counts.argmax()] #here we are finding max occureded label\n",
    "    \n",
    "    \n",
    "    return dic[int(pred)] #here we are converting int to float "
   ]
  },
  {
   "cell_type": "code",
   "execution_count": 34,
   "metadata": {},
   "outputs": [
    {
     "data": {
      "text/plain": [
       "'cat'"
      ]
     },
     "execution_count": 34,
     "metadata": {},
     "output_type": "execute_result"
    }
   ],
   "source": [
    " kNN(X, y, x_query)"
   ]
  },
  {
   "cell_type": "code",
   "execution_count": null,
   "metadata": {},
   "outputs": [],
   "source": []
  },
  {
   "cell_type": "code",
   "execution_count": null,
   "metadata": {},
   "outputs": [],
   "source": []
  },
  {
   "cell_type": "code",
   "execution_count": null,
   "metadata": {},
   "outputs": [],
   "source": []
  }
 ],
 "metadata": {
  "kernelspec": {
   "display_name": "Python 3",
   "language": "python",
   "name": "python3"
  },
  "language_info": {
   "codemirror_mode": {
    "name": "ipython",
    "version": 3
   },
   "file_extension": ".py",
   "mimetype": "text/x-python",
   "name": "python",
   "nbconvert_exporter": "python",
   "pygments_lexer": "ipython3",
   "version": "3.8.1"
  }
 },
 "nbformat": 4,
 "nbformat_minor": 4
}
